{
 "cells": [
  {
   "cell_type": "markdown",
   "metadata": {},
   "source": [
    "# Map of S. oneidensis to Human Genome Results:\n",
    "\n",
    "**\"1124714 reads; of these:\n",
    "  1124714 (100.00%) were unpaired; of these:\n",
    "    1028379 (91.43%) aligned 0 times\n",
    "    87274 (7.76%) aligned exactly 1 time\n",
    "    9061 (0.81%) aligned >1 times\n",
    "8.57% overall alignment rate**\n",
    "\n",
    "**--> Can conclude that 8.57% of the sequencing DNA came from contaminating human DNA.**"
   ]
  },
  {
   "cell_type": "markdown",
   "metadata": {},
   "source": [
    "# Verification of S. oneidensis sequencing (after filtering) ['--very-fast']\n",
    "\n",
    "**\"1028379 reads; of these:\n",
    "  1028379 (100.00%) were unpaired; of these:\n",
    "    299560 (29.13%) aligned 0 times\n",
    "    687571 (66.86%) aligned exactly 1 time\n",
    "    41248 (4.01%) aligned >1 times\n",
    "70.87% overall alignment rate\"**\n",
    "\n",
    "**The unaligned fastq file will contain regions of our sequencing data that DID NOT align to the reference genome, meaning that they are most likely regions which contain mutations such that perfect alignments do not occur.**\n",
    "\n",
    "**--> For --very-fast: 29.13% did not align**\n",
    "\n",
    "# Verification of S. oneidensis sequencing (after filtering) ['--very-sensitive']\n",
    "\n",
    "**\"1028379 reads; of these:\n",
    "  1028379 (100.00%) were unpaired; of these:\n",
    "    298112 (28.99%) aligned 0 times\n",
    "    688180 (66.92%) aligned exactly 1 time\n",
    "    42087 (4.09%) aligned >1 times\n",
    "71.01% overall alignment rate**\"\n",
    "\n",
    "**--> For --very-sensitive: 28.99% did not align, so the percentage of unaligned DNA decreased**"
   ]
  },
  {
   "cell_type": "code",
   "execution_count": 2,
   "metadata": {},
   "outputs": [],
   "source": [
    "import matplotlib.pyplot as plt\n",
    "%matplotlib inline\n",
    "import csv\n",
    "import numpy as np\n",
    "\n",
    "with open(\"pileup.tab\") as f:\n",
    "    reader = csv.reader(f, delimiter=\"\\t\")\n",
    "    pileup = list(reader)\n",
    "f.close()\n",
    "freq = []\n",
    "position = []\n",
    "\n",
    "for i in range(0,len(pileup)):\n",
    "    position.append(int(pileup[i][1]))\n",
    "    freq.append(int(pileup[i][2][0:]))\n",
    "\n",
    "\n",
    "\n"
   ]
  },
  {
   "cell_type": "markdown",
   "metadata": {},
   "source": [
    "# Plot of Depth of Coverage vs. Position in Genome"
   ]
  },
  {
   "cell_type": "code",
   "execution_count": 6,
   "metadata": {},
   "outputs": [
    {
     "data": {
      "image/png": "[encoded data removed]",
      "text/plain": [
       "<Figure size 432x288 with 1 Axes>"
      ]
     },
     "metadata": {
      "needs_background": "light"
     },
     "output_type": "display_data"
    }
   ],
   "source": [
    "plt.figure()\n",
    "plt.plot(position,freq)\n",
    "plt.xticks(np.arange(0,6000000,1000000))\n",
    "plt.yticks(np.arange(0,250,50))\n",
    "plt.xlabel(\"Position in Genome\")\n",
    "plt.ylabel(\"Depth of Coverage\")\n",
    "plt.title(\"Coverage\")\n",
    "plt.show()"
   ]
  },
  {
   "cell_type": "code",
   "execution_count": 18,
   "metadata": {},
   "outputs": [],
   "source": [
    "# To generate a nested list with each element being a list of [depth number, number of occurences]\n",
    "depthcountdict = [[x,freq.count(x)] for x in set(freq)]"
   ]
  },
  {
   "cell_type": "code",
   "execution_count": 43,
   "metadata": {},
   "outputs": [],
   "source": [
    "# To generate lists for data for the Distribution of Coverage bar graph\n",
    "coverageposition = []\n",
    "depthcount = []\n",
    "for i in depthcountdict:\n",
    "    coverageposition.append(i[0])\n",
    "    depthcount.append(i[1])"
   ]
  },
  {
   "cell_type": "code",
   "execution_count": 50,
   "metadata": {},
   "outputs": [
    {
     "data": {
      "image/png": "[encoded data removed]",
      "text/plain": [
       "<Figure size 432x288 with 1 Axes>"
      ]
     },
     "metadata": {
      "needs_background": "light"
     },
     "output_type": "display_data"
    }
   ],
   "source": [
    "plt.figure()\n",
    "plt.bar(coverageposition,depthcount)\n",
    "plt.xticks(np.arange(0,200,20))\n",
    "#plt.yticks(np.arange(0,300000,100000))\n",
    "plt.xlabel(\"Depth of Coverage\")\n",
    "plt.ylabel(\"Count\")\n",
    "plt.title(\"Distribution of Coverage Depth\")\n",
    "plt.tight_layout()\n",
    "plt.show()"
   ]
  },
  {
   "cell_type": "code",
   "execution_count": 4,
   "metadata": {},
   "outputs": [],
   "source": [
    "import csv\n",
    "with open(\"hgpileup.tab\") as f:\n",
    "    reader = csv.reader(f, delimiter=\"\\t\")\n",
    "    hgpileup = list(reader)\n",
    "f.close()\n",
    "hchrom = []\n",
    "hfreq = []\n",
    "\n",
    "for i in range(0,len(hgpileup)):\n",
    "    hchrom.append(hgpileup[i][0])\n",
    "    hfreq.append(int(hgpileup[i][2][0:]))"
   ]
  },
  {
   "cell_type": "code",
   "execution_count": 13,
   "metadata": {},
   "outputs": [
    {
     "name": "stdout",
     "output_type": "stream",
     "text": [
      "0.9999775623963361\n"
     ]
    }
   ],
   "source": [
    "length1,depth1 = 0,0\n",
    "for i in range(0,len(hchrom)):\n",
    "    if hchrom[i] == 'chr1':\n",
    "        length1+=1\n",
    "        depth1+=hfreq[i]\n",
    "print(ad1)"
   ]
  },
  {
   "cell_type": "code",
   "execution_count": 15,
   "metadata": {},
   "outputs": [
    {
     "name": "stdout",
     "output_type": "stream",
     "text": [
      "0.9999605595069855\n"
     ]
    }
   ],
   "source": [
    "length2,depth2 = 0,0\n",
    "for i in range(0,len(hchrom)):\n",
    "    if hchrom[i] == 'chr2':\n",
    "        length2+=1\n",
    "        depth2+=hfreq[i]\n",
    "ad2 = depth2/length2\n",
    "print(ad2)"
   ]
  },
  {
   "cell_type": "code",
   "execution_count": 16,
   "metadata": {},
   "outputs": [
    {
     "name": "stdout",
     "output_type": "stream",
     "text": [
      "0.9999720477038968\n"
     ]
    }
   ],
   "source": [
    "length3,depth3 = 0,0\n",
    "for i in range(0,len(hchrom)):\n",
    "    if hchrom[i] == 'chr3':\n",
    "        length3+=1\n",
    "        depth3+=hfreq[i]\n",
    "ad3 = depth3/length3\n",
    "print(ad3)"
   ]
  },
  {
   "cell_type": "code",
   "execution_count": 17,
   "metadata": {},
   "outputs": [
    {
     "name": "stdout",
     "output_type": "stream",
     "text": [
      "0.9999699128104919\n"
     ]
    }
   ],
   "source": [
    "length4,depth4 = 0,0\n",
    "for i in range(0,len(hchrom)):\n",
    "    if hchrom[i] == 'chr4':\n",
    "        length4+=1\n",
    "        depth4+=hfreq[i]\n",
    "ad4 = depth4/length4\n",
    "print(ad4)"
   ]
  },
  {
   "cell_type": "code",
   "execution_count": 18,
   "metadata": {},
   "outputs": [
    {
     "name": "stdout",
     "output_type": "stream",
     "text": [
      "0.9999671529331595\n"
     ]
    }
   ],
   "source": [
    "length5,depth5 = 0,0\n",
    "for i in range(0,len(hchrom)):\n",
    "    if hchrom[i] == 'chr5':\n",
    "        length5+=1\n",
    "        depth5+=hfreq[i]\n",
    "ad5 = depth5/length5\n",
    "print(ad5)"
   ]
  },
  {
   "cell_type": "code",
   "execution_count": 19,
   "metadata": {},
   "outputs": [
    {
     "name": "stdout",
     "output_type": "stream",
     "text": [
      "0.9999757875683928\n"
     ]
    }
   ],
   "source": [
    "length6,depth6 = 0,0\n",
    "for i in range(0,len(hchrom)):\n",
    "    if hchrom[i] == 'chr6':\n",
    "        length6+=1\n",
    "        depth6+=hfreq[i]\n",
    "ad6 = depth6/length6\n",
    "print(ad6)"
   ]
  },
  {
   "cell_type": "code",
   "execution_count": 20,
   "metadata": {},
   "outputs": [
    {
     "name": "stdout",
     "output_type": "stream",
     "text": [
      "0.9999987244336644\n"
     ]
    }
   ],
   "source": [
    "length7,depth7 = 0,0\n",
    "for i in range(0,len(hchrom)):\n",
    "    if hchrom[i] == 'chr7':\n",
    "        length7+=1\n",
    "        depth7+=hfreq[i]\n",
    "ad7 = depth7/length7\n",
    "print(ad7)"
   ]
  },
  {
   "cell_type": "code",
   "execution_count": 21,
   "metadata": {},
   "outputs": [
    {
     "name": "stdout",
     "output_type": "stream",
     "text": [
      "0.9999646588504979\n"
     ]
    }
   ],
   "source": [
    "length8,depth8 = 0,0\n",
    "for i in range(0,len(hchrom)):\n",
    "    if hchrom[i] == 'chr8':\n",
    "        length8+=1\n",
    "        depth8+=hfreq[i]\n",
    "ad8 = depth8/length8\n",
    "print(ad8)"
   ]
  },
  {
   "cell_type": "code",
   "execution_count": 22,
   "metadata": {},
   "outputs": [
    {
     "name": "stdout",
     "output_type": "stream",
     "text": [
      "0.9999585662943434\n"
     ]
    }
   ],
   "source": [
    "length9,depth9 = 0,0\n",
    "for i in range(0,len(hchrom)):\n",
    "    if hchrom[i] == 'chr9':\n",
    "        length9+=1\n",
    "        depth9+=hfreq[i]\n",
    "ad9 = depth9/length9\n",
    "print(ad9)"
   ]
  },
  {
   "cell_type": "code",
   "execution_count": 23,
   "metadata": {},
   "outputs": [
    {
     "name": "stdout",
     "output_type": "stream",
     "text": [
      "0.9999539252304682\n"
     ]
    }
   ],
   "source": [
    "length10,depth10 = 0,0\n",
    "for i in range(0,len(hchrom)):\n",
    "    if hchrom[i] == 'chr10':\n",
    "        length10+=1\n",
    "        depth10+=hfreq[i]\n",
    "ad10 = depth10/length10\n",
    "print(ad10)"
   ]
  },
  {
   "cell_type": "code",
   "execution_count": 24,
   "metadata": {},
   "outputs": [
    {
     "name": "stdout",
     "output_type": "stream",
     "text": [
      "0.9999630480390574\n"
     ]
    }
   ],
   "source": [
    "length11,depth11 = 0,0\n",
    "for i in range(0,len(hchrom)):\n",
    "    if hchrom[i] == 'chr11':\n",
    "        length11+=1\n",
    "        depth11+=hfreq[i]\n",
    "ad11 = depth11/length11\n",
    "print(ad11)"
   ]
  },
  {
   "cell_type": "code",
   "execution_count": 26,
   "metadata": {},
   "outputs": [
    {
     "name": "stdout",
     "output_type": "stream",
     "text": [
      "1.0000136680175225\n"
     ]
    }
   ],
   "source": [
    "length12,depth12 = 0,0\n",
    "for i in range(0,len(hchrom)):\n",
    "    if hchrom[i] == 'chr12':\n",
    "        length12+=1\n",
    "        depth12+=hfreq[i]\n",
    "ad12 = depth12/length12\n",
    "print(ad12)"
   ]
  },
  {
   "cell_type": "code",
   "execution_count": 25,
   "metadata": {},
   "outputs": [
    {
     "name": "stdout",
     "output_type": "stream",
     "text": [
      "0.9999710563801042\n"
     ]
    }
   ],
   "source": [
    "length13,depth13 = 0,0\n",
    "for i in range(0,len(hchrom)):\n",
    "    if hchrom[i] == 'chr13':\n",
    "        length13+=1\n",
    "        depth13+=hfreq[i]\n",
    "ad13 = depth13/length13\n",
    "print(ad13)"
   ]
  },
  {
   "cell_type": "code",
   "execution_count": 27,
   "metadata": {},
   "outputs": [
    {
     "name": "stdout",
     "output_type": "stream",
     "text": [
      "0.999968570896201\n"
     ]
    }
   ],
   "source": [
    "length14,depth14 = 0,0\n",
    "for i in range(0,len(hchrom)):\n",
    "    if hchrom[i] == 'chr14':\n",
    "        length14+=1\n",
    "        depth14+=hfreq[i]\n",
    "ad14 = depth14/length14\n",
    "print(ad14)"
   ]
  },
  {
   "cell_type": "code",
   "execution_count": 28,
   "metadata": {},
   "outputs": [
    {
     "name": "stdout",
     "output_type": "stream",
     "text": [
      "1.000049668372755\n"
     ]
    }
   ],
   "source": [
    "length15,depth15 = 0,0\n",
    "for i in range(0,len(hchrom)):\n",
    "    if hchrom[i] == 'chr15':\n",
    "        length15+=1\n",
    "        depth15+=hfreq[i]\n",
    "ad15 = depth15/length15\n",
    "print(ad15)"
   ]
  },
  {
   "cell_type": "code",
   "execution_count": 29,
   "metadata": {},
   "outputs": [
    {
     "name": "stdout",
     "output_type": "stream",
     "text": [
      "1.0001179387320833\n"
     ]
    }
   ],
   "source": [
    "length16,depth16 = 0,0\n",
    "for i in range(0,len(hchrom)):\n",
    "    if hchrom[i] == 'chr16':\n",
    "        length16+=1\n",
    "        depth16+=hfreq[i]\n",
    "ad16 = depth16/length16\n",
    "print(ad16)"
   ]
  },
  {
   "cell_type": "code",
   "execution_count": 30,
   "metadata": {},
   "outputs": [
    {
     "name": "stdout",
     "output_type": "stream",
     "text": [
      "0.9999784088051433\n"
     ]
    }
   ],
   "source": [
    "length17,depth17 = 0,0\n",
    "for i in range(0,len(hchrom)):\n",
    "    if hchrom[i] == 'chr17':\n",
    "        length17+=1\n",
    "        depth17+=hfreq[i]\n",
    "ad17 = depth17/length17\n",
    "print(ad17)"
   ]
  },
  {
   "cell_type": "code",
   "execution_count": 31,
   "metadata": {},
   "outputs": [
    {
     "name": "stdout",
     "output_type": "stream",
     "text": [
      "0.9999019801337574\n"
     ]
    }
   ],
   "source": [
    "length18,depth18 = 0,0\n",
    "for i in range(0,len(hchrom)):\n",
    "    if hchrom[i] == 'chr18':\n",
    "        length18+=1\n",
    "        depth18+=hfreq[i]\n",
    "ad18 = depth18/length18\n",
    "print(ad18)"
   ]
  },
  {
   "cell_type": "code",
   "execution_count": 32,
   "metadata": {},
   "outputs": [
    {
     "name": "stdout",
     "output_type": "stream",
     "text": [
      "0.9999482885286125\n"
     ]
    }
   ],
   "source": [
    "length19,depth19 = 0,0\n",
    "for i in range(0,len(hchrom)):\n",
    "    if hchrom[i] == 'chr19':\n",
    "        length19+=1\n",
    "        depth19+=hfreq[i]\n",
    "ad19 = depth19/length19\n",
    "print(ad19)"
   ]
  },
  {
   "cell_type": "code",
   "execution_count": 33,
   "metadata": {},
   "outputs": [
    {
     "name": "stdout",
     "output_type": "stream",
     "text": [
      "0.9999599507394095\n"
     ]
    }
   ],
   "source": [
    "length20,depth20 = 0,0\n",
    "for i in range(0,len(hchrom)):\n",
    "    if hchrom[i] == 'chr20':\n",
    "        length20+=1\n",
    "        depth20+=hfreq[i]\n",
    "ad20 = depth20/length20\n",
    "print(ad20)"
   ]
  },
  {
   "cell_type": "code",
   "execution_count": 34,
   "metadata": {},
   "outputs": [
    {
     "name": "stdout",
     "output_type": "stream",
     "text": [
      "0.9999886027222398\n"
     ]
    }
   ],
   "source": [
    "length21,depth21 = 0,0\n",
    "for i in range(0,len(hchrom)):\n",
    "    if hchrom[i] == 'chr21':\n",
    "        length21+=1\n",
    "        depth21+=hfreq[i]\n",
    "ad21 = depth21/length21\n",
    "print(ad21)"
   ]
  },
  {
   "cell_type": "code",
   "execution_count": 35,
   "metadata": {},
   "outputs": [
    {
     "name": "stdout",
     "output_type": "stream",
     "text": [
      "0.99998581065166\n"
     ]
    }
   ],
   "source": [
    "length22,depth22 = 0,0\n",
    "for i in range(0,len(hchrom)):\n",
    "    if hchrom[i] == 'chr22':\n",
    "        length22+=1\n",
    "        depth22+=hfreq[i]\n",
    "ad22 = depth22/length22\n",
    "print(ad22)"
   ]
  },
  {
   "cell_type": "code",
   "execution_count": 37,
   "metadata": {},
   "outputs": [
    {
     "name": "stdout",
     "output_type": "stream",
     "text": [
      "0.9999708320296135\n"
     ]
    }
   ],
   "source": [
    "lengthX,depthX = 0,0\n",
    "for i in range(0,len(hchrom)):\n",
    "    if hchrom[i] == 'chrX':\n",
    "        lengthX+=1\n",
    "        depthX+=hfreq[i]\n",
    "adX = depthX/lengthX\n",
    "print(adX)"
   ]
  },
  {
   "cell_type": "code",
   "execution_count": 38,
   "metadata": {},
   "outputs": [
    {
     "name": "stdout",
     "output_type": "stream",
     "text": [
      "1.001597712403574\n"
     ]
    }
   ],
   "source": [
    "lengthY,depthY = 0,0\n",
    "for i in range(0,len(hchrom)):\n",
    "    if hchrom[i] == 'chrY':\n",
    "        lengthY+=1\n",
    "        depthY+=hfreq[i]\n",
    "adY = depthY/lengthY\n",
    "print(adY)"
   ]
  },
  {
   "cell_type": "code",
   "execution_count": 47,
   "metadata": {},
   "outputs": [],
   "source": [
    "chrom = [1,2,3,4,5,6,7,8,9,10,11,12,13,14,15,16,17,18,19,20,21,22,\"X\",\"Y\"]\n",
    "ad = [ad1,ad2,ad3,ad4,ad5,ad6,ad7,ad8,ad9,ad10,ad11,ad12,ad13,ad14,ad15,ad16,ad17,ad18,ad19,ad20,ad21,ad22,adX,adY]"
   ]
  },
  {
   "cell_type": "code",
   "execution_count": 52,
   "metadata": {},
   "outputs": [
    {
     "data": {
      "image/png": "[encoded data removed]",
      "text/plain": [
       "<Figure size 432x288 with 1 Axes>"
      ]
     },
     "metadata": {
      "needs_background": "light"
     },
     "output_type": "display_data"
    }
   ],
   "source": [
    "import matplotlib.pyplot as plt\n",
    "%matplotlib inline\n",
    "plt.figure()\n",
    "plt.plot(chrom,ad)\n",
    "#plt.xticks(np.arange(0,6000000,1000000))\n",
    "#plt.yticks(np.arange(0,250,50))\n",
    "plt.xlabel(\"Chromosome\")\n",
    "plt.ylabel(\"Average Depth\")\n",
    "plt.title(\"Average Depth vs. Chromosome\")\n",
    "plt.show()"
   ]
  },
  {
   "cell_type": "markdown",
   "metadata": {},
   "source": [
    "# Based on the plot above, since the average depth for Jamie's DNA sequencing read alignment with the hg19 referance genome is greater than 1 for the Y chromosome but less than one for the X chromosome, we can conclude that Jamie is a boy. This is because more of the reads aligned to positions in the Y chromosome than to the X, meaning they were present in his DNA."
   ]
  },
  {
   "cell_type": "code",
   "execution_count": 53,
   "metadata": {},
   "outputs": [],
   "source": [
    "# To generate a nested list with each element being a list of [depth number, number of occurences]\n",
    "hdepthcountdict = [[x,hfreq.count(x)] for x in set(hfreq)]"
   ]
  },
  {
   "cell_type": "code",
   "execution_count": 65,
   "metadata": {},
   "outputs": [
    {
     "name": "stdout",
     "output_type": "stream",
     "text": [
      "[0, 1, 2]\n",
      "[1004, 28865657, 720]\n"
     ]
    }
   ],
   "source": [
    "# To generate lists for data for the Distribution of Coverage bar graph\n",
    "hcoverageposition = []\n",
    "hdepthcount = []\n",
    "for i in hdepthcountdict:\n",
    "    hcoverageposition.append(i[0])\n",
    "    hdepthcount.append(i[1])\n",
    "print(hcoverageposition)\n",
    "print(hdepthcount)"
   ]
  },
  {
   "cell_type": "code",
   "execution_count": 68,
   "metadata": {},
   "outputs": [
    {
     "data": {
      "image/png": "[encoded data removed]",
      "text/plain": [
       "<Figure size 432x288 with 1 Axes>"
      ]
     },
     "metadata": {
      "needs_background": "light"
     },
     "output_type": "display_data"
    }
   ],
   "source": [
    "import numpy as np\n",
    "plt.figure()\n",
    "plt.bar(hcoverageposition,hdepthcount)\n",
    "#plt.xticks(np.arange(0,3,1))\n",
    "#plt.yticks(np.arange(0,30000000,100000))\n",
    "plt.xlabel(\"Depth of Coverage\")\n",
    "plt.ylabel(\"Count\")\n",
    "plt.title(\"Distribution of Coverage for Jamie\")\n",
    "plt.tight_layout()\n",
    "plt.show()"
   ]
  },
  {
   "cell_type": "markdown",
   "metadata": {},
   "source": [
    "# Interpretation of Distribution of Coverage Bar Graph\n",
    "**Since most reads were aligned to the hg19 exactly 1 time, the other two bars (0 and 2) appear at 0 but actually have 1004 and 720 counts, respectively**\n",
    "**Note also that the y-axis is (x10^7)**"
   ]
  }
 ],
 "metadata": {
  "kernelspec": {
   "display_name": "Python 3",
   "language": "python",
   "name": "python3"
  },
  "language_info": {
   "codemirror_mode": {
    "name": "ipython",
    "version": 3
   },
   "file_extension": ".py",
   "mimetype": "text/x-python",
   "name": "python",
   "nbconvert_exporter": "python",
   "pygments_lexer": "ipython3",
   "version": "3.7.0"
  }
 },
 "nbformat": 4,
 "nbformat_minor": 2
}
