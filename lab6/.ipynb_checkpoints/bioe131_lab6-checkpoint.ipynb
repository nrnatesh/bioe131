{
 "cells": [
  {
   "cell_type": "markdown",
   "metadata": {},
   "source": [
    "# Map of S. oneidensis to Human Genome Results:\n",
    "\n",
    "**\"1124714 reads; of these:\n",
    "  1124714 (100.00%) were unpaired; of these:\n",
    "    1028379 (91.43%) aligned 0 times\n",
    "    87274 (7.76%) aligned exactly 1 time\n",
    "    9061 (0.81%) aligned >1 times\n",
    "8.57% overall alignment rate**\n",
    "\n",
    "**--> Can conclude that 8.57% of the sequencing DNA came from contaminating human DNA.**"
   ]
  },
  {
   "cell_type": "markdown",
   "metadata": {},
   "source": [
    "# Verification of S. oneidensis sequencing (after filtering) ['--very-fast']\n",
    "\n",
    "**\"1028379 reads; of these:\n",
    "  1028379 (100.00%) were unpaired; of these:\n",
    "    299560 (29.13%) aligned 0 times\n",
    "    687571 (66.86%) aligned exactly 1 time\n",
    "    41248 (4.01%) aligned >1 times\n",
    "70.87% overall alignment rate\"**\n",
    "\n",
    "**The unaligned fastq file will contain regions of our sequencing data that DID NOT align to the reference genome, meaning that they are most likely regions which contain mutations such that perfect alignments do not occur.**\n",
    "\n",
    "**--> For --very-fast: 29.13% did not align**\n",
    "\n",
    "# Verification of S. oneidensis sequencing (after filtering) ['--very-sensitive']\n",
    "\n",
    "**\"1028379 reads; of these:\n",
    "  1028379 (100.00%) were unpaired; of these:\n",
    "    298112 (28.99%) aligned 0 times\n",
    "    688180 (66.92%) aligned exactly 1 time\n",
    "    42087 (4.09%) aligned >1 times\n",
    "71.01% overall alignment rate**\"\n",
    "\n",
    "**--> For --very-sensitive: 28.99% did not align, so the percentage of unaligned DNA decreased**"
   ]
  },
  {
   "cell_type": "code",
   "execution_count": 2,
   "metadata": {},
   "outputs": [],
   "source": [
    "import matplotlib.pyplot as plt\n",
    "%matplotlib inline\n",
    "import csv\n",
    "import numpy as np\n",
    "\n",
    "with open(\"pileup.tab\") as f:\n",
    "    reader = csv.reader(f, delimiter=\"\\t\")\n",
    "    pileup = list(reader)\n",
    "f.close()\n",
    "freq = []\n",
    "position = []\n",
    "\n",
    "for i in range(0,len(pileup)):\n",
    "    position.append(int(pileup[i][1]))\n",
    "    freq.append(int(pileup[i][2][0:]))\n",
    "\n",
    "\n",
    "\n"
   ]
  },
  {
   "cell_type": "markdown",
   "metadata": {},
   "source": [
    "# Plot of Depth of Coverage vs. Position in Genome"
   ]
  },
  {
   "cell_type": "code",
   "execution_count": 6,
   "metadata": {},
   "outputs": [
    {
     "data": {
      "image/png": "[encoded data removed]",
      "text/plain": [
       "<Figure size 432x288 with 1 Axes>"
      ]
     },
     "metadata": {
      "needs_background": "light"
     },
     "output_type": "display_data"
    }
   ],
   "source": [
    "plt.figure()\n",
    "plt.plot(position,freq)\n",
    "plt.xticks(np.arange(0,6000000,1000000))\n",
    "plt.yticks(np.arange(0,250,50))\n",
    "plt.xlabel(\"Position in Genome\")\n",
    "plt.ylabel(\"Depth of Coverage\")\n",
    "plt.title(\"Coverage\")\n",
    "plt.show()"
   ]
  },
  {
   "cell_type": "code",
   "execution_count": 18,
   "metadata": {},
   "outputs": [],
   "source": [
    "# To generate a nested list with each element being a list of [depth number, number of occurences]\n",
    "depthcountdict = [[x,freq.count(x)] for x in set(freq)]"
   ]
  },
  {
   "cell_type": "code",
   "execution_count": 43,
   "metadata": {},
   "outputs": [],
   "source": [
    "# To generate lists for data for the Distribution of Coverage bar graph\n",
    "coverageposition = []\n",
    "depthcount = []\n",
    "for i in depthcountdict:\n",
    "    coverageposition.append(i[0])\n",
    "    depthcount.append(i[1])"
   ]
  },
  {
   "cell_type": "code",
   "execution_count": 50,
   "metadata": {},
   "outputs": [
    {
     "data": {
      "image/png": "[encoded data removed]",
      "text/plain": [
       "<Figure size 432x288 with 1 Axes>"
      ]
     },
     "metadata": {
      "needs_background": "light"
     },
     "output_type": "display_data"
    }
   ],
   "source": [
    "plt.figure()\n",
    "plt.bar(coverageposition,depthcount)\n",
    "plt.xticks(np.arange(0,200,20))\n",
    "#plt.yticks(np.arange(0,300000,100000))\n",
    "plt.xlabel(\"Depth of Coverage\")\n",
    "plt.ylabel(\"Count\")\n",
    "plt.title(\"Distribution of Coverage Depth\")\n",
    "plt.tight_layout()\n",
    "plt.show()"
   ]
  },
  {
   "cell_type": "code",
   "execution_count": 7,
   "metadata": {},
   "outputs": [],
   "source": [
    "import csv\n",
    "with open(\"hgpileup.tab\") as f:\n",
    "    reader = csv.reader(f, delimiter=\"\\t\")\n",
    "    hgpileup = list(reader)\n",
    "f.close()\n",
    "hposition = []\n",
    "hfreq = []\n",
    "\n",
    "for i in range(0,len(hgpileup)):\n",
    "    hposition.append(int(hgpileup[i][1]))\n",
    "    hfreq.append(int(hgpileup[i][2][0:]))"
   ]
  },
  {
   "cell_type": "code",
   "execution_count": 9,
   "metadata": {},
   "outputs": [
    {
     "name": "stdout",
     "output_type": "stream",
     "text": [
      "[['chr1', '16523', '1'], ['chr1', '16524', '1'], ['chr1', '16525', '1'], ['chr1', '16526', '1'], ['chr1', '16527', '1'], ['chr1', '16528', '1'], ['chr1', '16529', '1'], ['chr1', '16530', '1'], ['chr1', '16531', '1'], ['chr1', '16532', '1'], ['chr1', '16533', '1'], ['chr1', '16534', '1'], ['chr1', '16535', '1'], ['chr1', '16536', '1'], ['chr1', '16537', '1'], ['chr1', '16538', '1'], ['chr1', '16539', '1'], ['chr1', '16540', '1'], ['chr1', '16541', '1'], ['chr1', '16542', '1'], ['chr1', '16543', '1'], ['chr1', '16544', '1'], ['chr1', '16545', '1'], ['chr1', '16546', '1'], ['chr1', '16547', '1'], ['chr1', '16548', '1'], ['chr1', '16549', '1'], ['chr1', '16550', '1'], ['chr1', '16551', '1'], ['chr1', '16552', '1'], ['chr1', '16553', '1'], ['chr1', '16554', '1'], ['chr1', '16555', '1'], ['chr1', '16556', '1'], ['chr1', '16557', '1'], ['chr1', '16558', '1'], ['chr1', '16559', '1'], ['chr1', '16560', '1'], ['chr1', '16561', '1'], ['chr1', '16562', '1'], ['chr1', '16563', '1'], ['chr1', '16564', '1'], ['chr1', '16565', '1'], ['chr1', '16566', '1'], ['chr1', '16567', '1'], ['chr1', '16568', '1'], ['chr1', '16569', '1'], ['chr1', '16570', '1'], ['chr1', '16571', '1'], ['chr1', '16572', '1'], ['chr1', '16573', '1'], ['chr1', '16574', '1'], ['chr1', '16575', '1'], ['chr1', '16576', '1'], ['chr1', '16577', '1'], ['chr1', '16578', '1'], ['chr1', '16579', '1'], ['chr1', '16580', '1'], ['chr1', '16581', '1'], ['chr1', '16582', '1'], ['chr1', '16583', '1'], ['chr1', '16584', '1'], ['chr1', '16585', '1'], ['chr1', '16586', '1'], ['chr1', '16587', '1'], ['chr1', '16588', '1'], ['chr1', '16589', '1'], ['chr1', '16590', '1'], ['chr1', '16591', '1'], ['chr1', '16592', '1'], ['chr1', '16593', '1'], ['chr1', '16594', '1'], ['chr1', '16595', '1'], ['chr1', '16596', '1'], ['chr1', '16597', '1'], ['chr1', '16598', '1'], ['chr1', '16599', '1'], ['chr1', '16600', '1'], ['chr1', '16601', '1'], ['chr1', '16602', '1'], ['chr1', '16603', '1'], ['chr1', '16604', '1'], ['chr1', '16605', '1'], ['chr1', '16606', '1'], ['chr1', '16607', '1'], ['chr1', '16608', '1'], ['chr1', '16609', '1'], ['chr1', '16610', '1'], ['chr1', '16611', '1'], ['chr1', '16612', '1'], ['chr1', '16613', '1'], ['chr1', '16614', '1'], ['chr1', '16615', '1'], ['chr1', '16616', '1'], ['chr1', '16617', '1'], ['chr1', '16618', '1'], ['chr1', '16619', '1'], ['chr1', '16620', '1'], ['chr1', '16621', '1'], ['chr1', '16622', '1']]\n"
     ]
    }
   ],
   "source": []
  },
  {
   "cell_type": "code",
   "execution_count": null,
   "metadata": {},
   "outputs": [],
   "source": []
  }
 ],
 "metadata": {
  "kernelspec": {
   "display_name": "Python 3",
   "language": "python",
   "name": "python3"
  },
  "language_info": {
   "codemirror_mode": {
    "name": "ipython",
    "version": 3
   },
   "file_extension": ".py",
   "mimetype": "text/x-python",
   "name": "python",
   "nbconvert_exporter": "python",
   "pygments_lexer": "ipython3",
   "version": "3.7.0"
  }
 },
 "nbformat": 4,
 "nbformat_minor": 2
}
