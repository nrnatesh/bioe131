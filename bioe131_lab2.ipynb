{
 "cells": [
  {
   "cell_type": "code",
   "execution_count": 2,
   "metadata": {},
   "outputs": [
    {
     "data": {
      "text/plain": [
       "<Figure size 640x480 with 1 Axes>"
      ]
     },
     "metadata": {},
     "output_type": "display_data"
    },
    {
     "name": "stdout",
     "output_type": "stream",
     "text": [
      " , rh.61\n",
      " |\n",
      " |_ rh.58\n",
      " |\n",
      " |                               , pi.2\n",
      " |           ____________________|\n",
      " |          |                    , pi.3\n",
      " |          |                    |\n",
      " |          |                    | pi.1\n",
      " |          |\n",
      " |          |           , rh.10\n",
      " |        __|          _|\n",
      " |       |  |         | , bb.1\n",
      " |       |  |         | |\n",
      " |       |  |  _______| | bb.2\n",
      " |       |  | |       |\n",
      " |       |  | |       | _ hu.17\n",
      " |       |  | |       ||\n",
      " |       |  |_|        | hu.6\n",
      " |       |    |\n",
      " |       |    |    _______ rh.2\n",
      " |       |    |   |\n",
      " |       |    |___|          __ rh.40\n",
      " |       |        |         |\n",
      " |       |        |_________|, hu.67\n",
      " |       |                  ||\n",
      " |       |                  |, hu.37\n",
      " |       |                   |\n",
      " |       |                   , hu.40\n",
      " |       |                   |\n",
      " |       |                   | hu.66\n",
      " |       |                   |\n",
      " |       |                   , hu.41\n",
      " |       |                   |\n",
      " |       |                   | rh.38\n",
      " |       |                   |\n",
      " |       |                   | hu.42\n",
      " |       |\n",
      " |_______|                                         , cy.3\n",
      " |       |                                         |\n",
      " |       |                          _______________, cy.6\n",
      " |       |                         |               |\n",
      " |       |                         |               | cy.4\n",
      " |       |                         |               |\n",
      " |       |                 ________|               , cy.5\n",
      " |       |                |        |               |\n",
      " |       |                |        |               | rh.13\n",
      " |       |                |        |\n",
      " |       |                |        |        , rh.35\n",
      " |       |             ___|        |________|\n",
      " |       |            |   |                 , rh.36\n",
      " |       |            |   |                 |\n",
      " |       |            |   |                 | rh.37\n",
      " |       |            |   |\n",
      " |       |            |   |         ______ cy.2\n",
      " |       |            |   |________|\n",
      " |       |            |            |     __ rh.54\n",
      " |       |    ________|            |____|\n",
      " |       |   |        |                 |      __ rh.55\n",
      " |       |   |        |                 |_____|\n",
      " |       |   |        |                       |, rh.48\n",
      " |       |   |        |                       ||\n",
      " |       |   |        |                        | rh.62\n",
      " |       |   |        |\n",
      " |       |   |        |                               __ hu.43\n",
      " |       |   |        |______________________________|\n",
      " |       |___|                                       |  , hu.48\n",
      " |           |                                       |__|\n",
      " |           |                                          |      , hu.44\n",
      " |           |                                          |______|\n",
      " |           |                                                 | hu.46\n",
      " |           |\n",
      " |           |                                                    _ hu.14\n",
      " |           |      _____________________________________________|\n",
      " |           |     |                                             |  , hu.31\n",
      " |           |_____|                                             |__|\n",
      " |                 |                                                | hu.32\n",
      " |                 |\n",
      " |                 |______________ rh.43\n",
      "_|\n",
      " | rh.64\n",
      " |\n",
      " , rh.57\n",
      " |\n",
      " | rh.51\n",
      " |\n",
      " | rh.49\n",
      " |\n",
      " | rh.53\n",
      " |\n",
      " | rh.50\n",
      " |\n",
      " , rh.52\n",
      " |\n",
      " | hu.39\n",
      "\n"
     ]
    }
   ],
   "source": [
    "from Bio import Phylo\n",
    "tree = Phylo.read('tree.nwk','newick')\n",
    "#Phylo.draw(tree)\n",
    "Phylo.draw_ascii(tree)"
   ]
  },
  {
   "cell_type": "code",
   "execution_count": 3,
   "metadata": {},
   "outputs": [
    {
     "name": "stdout",
     "output_type": "stream",
     "text": [
      "hu.67\n",
      "atggctgctgacggttatcttccagattggctcgaggacaacctctctgagggcattcgcgagtggtgggacctgaaacctggagcccccaagcccaaggccaaccagcagaagcaggacgacggccggggtctggtgcttcttggctacaagtacctcggacccttcaacggactcgacaagggggagcccgtcaatgcggcggacgcagcggccctcgagcacgacaaggcctacgaccagcagctcaaagcgggtgacaatccgtacctgcggtataaccacgccgacgccgagtttcaggagcgtctgcaagaagatacgtcttttgggggcaacctcgggcgagcagtcttccaggccaagaagcgggttctcgaacctctcggtctggttgaggaagctgctaagacggctcctggaaagaagagaccggtagaaccgtcacctcagcgttcccccgactcctccacgggcatcggcaagaaaggccagcagcccgctaaaaagagactgaactttggtcagactggcgactcagagtcagtccccgaccctcaaccaatcggagaaccaccagcaggcccctctggtctgggatctggtacaatggctgcaggcggtggcgctccaatggcagacaataacgaaggcgccgacggagtgggtagttcctcaggaaattggcattgcgattccacatggctgggcgacagagtcatcaccaccagcacccgaacctgggccctgcccacctacaacaaccacctctacaagcaaatatccaatgggacatcgggaggaagcaccaacgacaacacctacttcggctacagcaccccctgggggtattttgacttcaacagattccactgccacttctcaccacgtgactggcagcgactcatcaacaacaactggggattccggccaaaaagactcagcttcaagctcttcaacatccaggtcaaggaggtcacgcagaatgaaggcaccaagaccatcgccaataaccttaccagcacgattcaggtatttacggactcggaataccagctgccgtacgtcctcggctccgcgcaccagggctgcctgcctccgttcccggcggacgtcttcatgattccccagtacggctaccttacactgaacaatggaagtcaagccgtaggccgttcctccttctactgcctggaatattttccatctcaaatgctgcgaactggaaacaattttgaattcagctacaccttcgaggacgtgcctttccacagcggctacgcacacagccagagcttggaccgactgatgaatcctctcatcgaccagtacctgtactacttatccagaactcagtccacaggaggaactcaaggtacccagcaattgttattttctcaagctgggcctgcaaacatgtcggctcaggctaagaactggctacctggaccttgctaccggcagcagcgagtctctacgacactgtcgcaaaacaacaacagcaactttgcttggactggtgccaccaaatatcacctgaacggaagagactctttggtaaatcccggtgtcgccatggcaacccacaaggacgacgaggaacgcttcttcccgtcgagtggagtcctgatgtttggaaaacagggtgctggaagagacaatgtggactacagcagcgttatgctaaccagcgaagaagaaattaaaaccactaaccctgtagccacagaacaatacggtgtggtggctgacaacttgcagcaaaccaatacagggcctattgtgggaaatgtcaacagccaaggagccttacctggcatggtctggcagaaccgagacgtgtacctgcagggtcccatctgggccaagattcctcacacggacggcaacttccacccttcaccgctaatgggaggatttggactgaagcacccacctcctcagatcctgatcaagaacacgccggtacctgcggatcctccaacgacgttcagccaggcgaaattggcttccttcattacgcagtacagcaccggacaggtcagcgtggaaatcgagtgggagctgcagaaggagaacagcaaacgctggaacccagagattcagtacacttcaaactactacaaatctacaaatgtggactttgctgtcaatacagagggaacttattctgagcctcgccccattggtactcgttacctcacccgtaatctgtaa\n",
      "\n",
      "rh.55\n",
      "atggctgccgatggttatcttccagattggctcgaggacaacctctctgagggcattcgcgagtggtgggacctgaaacctggagccccgaaacccaaagccaaccagcaaaagcaggacgacggccggggtctggtgcttcctggctacaagtacctcggacccttcaacggactcgacaagggggagcccgtcaacgcggcggacgcagcggccctcgagcacgacaaggcctacgaccagcagctcaaagcgggtgacaatccgtacctgcggtataatcacgccgacgccgagtttcaggagcgtctgcaagaagatacgtcttttgggggcaacctcgggcgagcagtcttccaggccaagaagcgggttctcgaacctctcggtctggttgaggaaggcgctaagacggctcctggaaagaagagaccggtagagccgtcaccacagcgttcccccgactcctccacgggcatcggcaagaaaggccagcagcccgccagaaagagactcaatttcggtcagactggcgactcagagtcagtccccgaccctcaacctatcggagaacctccagcagcgccctctagtgtgggatctggtacaatggctgcaggcggtggcgcaccaatggcagacaataacgaaggtgccgacggagtgggtagttcctcgggaaattggcattgcgattccacacggctgggcgacagagtcatcaccaccagcacccggacctgggctttgcccacctacaacaaccacctctacaagcaaatctccagtcagtcagcaggtagcaccaacgacaacgtctacttcggctacagcaccccctgggggtattttgacttcaacagattccactgtcacttctcaccacgtgactggcagcggctcatcaacaacaactggggattccggcccaagaagctcaacttcaagctgttcaacatccaggtcaaggaggtcacaacgaatgacggcgtcacgaccatcgccaataaccttaccagcacggttcaggtcttttcggactcggaataccagctgccctacgtcctcggctccgcacaccagggctgcctgcctccgttcccggcggacgtcttcatgattccccagtacggctacctgactctgaacaatggcagccaatcggtgggtcgttcctctttctactgcctggaatatttcccttctcaaatgctgagaacgggcaacaacttcaccttcagctacaccttcgaggacgttcccttccacagcagctacgcacacagccagagcctggaccggctgatgaatcctcttatcgaccagtacctgtattacctggccagaacacagagcaacgcaggaggcacagctggcaatcgggaactgcagttttatcagggcgggcctaccaccatggccgaacaagccaaaaactggctgcctggaccttgcttccggcaacgaagagtctccaagacgctggatcaaaacaacaacagcaactttgcttggactggtgccaccaaataccatctaaatggaagaaattcattggttaatcccggtgtcgccatggcaacccacaaggacgacgaggaacgcttcttcccttcgagcggagtcctgatttttggaaaaactggagcagctaataagactacactggaaaatgtgttaatgacaaatgaagaggaaattcgtcctaccaacccggtagccaccgaggaatacgggactgttagcagcaacctgcaggcggctaacactgcagcccagacacaagttgtcaacaaccagggagccttacctggtatggtctggcagaaccgggacgtgtacctgcagggtcccatctgggccaagattcctcacacggacggcaactttcacccgtctccgctgatgggcggctttggactgaagcatccgcctcctcagatcctgatcaaaaacactcctgttcctgctaatcccccggaggtgtttacgcctgccaagtttgcttctttcatcacacagtacagcaccggccaggtcagcgtggagatcgagtgggagctgcagaaggagaacagcaagcgctggaacccagagattcagtatacctccaattttgacaaacagactggtgtggactttgccgttgacagccagggtgtttattctgagcctcgccccattggtactcgttacctcacccgtaatctgtaa\n",
      "\n",
      "rh.53\n",
      "atggctgccgatggttatcttccagattggctcgaggacaacctctctgagggcattcgcgagtggtgggacctgaaacctggagccccgaaacccaaagccaaccagcaaaagcaggacgacggccggggtctggtgcttcctggctacaagtacctcggacccttcaacggactcgacaagggggagcccgtcaacgcggcggacgcagcggccctcgagcacgacaaggcctacgaccagcagctcaaagcgggtgacaatccgtacctgcggtataatcacgccgacgccgagtttcaggagcgtctgcaagaagatacgtcttttgggggcaacctcgggcgagcagtcttccaggccaagaagcgggttctcgaacctctcggtctggttgaggaaggcgctaagacggctcctggaaagaagagaccggtagagccgtcaccacagcgttcccccgactcctccacgggcatcggcaagaaaggccagcagcccgccagaaagagactcaatttcggtcagactggcgactcagagtcagtccccgaccctcaacctatcggagaacctccagcagcgccctctagtgtgggatctggtacaatggctgcaggcggtggcgcaccaatggcagacaataacgaaggtgccgacggagtgggtagttcctcgggaaattggcattgcgattccacatggctgggcgacagagtcatcaccaccagcacccgaacctgggccctgcccacctacaacaaccacctctacaagcaaatctccaacgggacctcgggaggcagcaccaacgacaacacctactttggctacagcaccccctgggggtattttgactttaacagattccactgccacttctcaccacgtgactggcagcgactcatcaacaacaactggggattccggcccaagagactcagcttcaagctcttcaacatccaggtcaaagaggtcacgcagaatgaaggcaccaagaccatcgccaataacctcaccagcaccatccaggtgtttacggactcggaataccagctgccgtacgtcctcggctctgcccaccagggctgcctgcctccgttcccggcggacgtcttcatgattcctcagtacggctacctgactctcaacaacggtagtcaggccgtgggacgttcctccttctactgcctggagtacttcccctctcagatgctgagaacgggcaacaacttttccttcagctacactttcgaggacgtgcctttccacagcagctacgtgcacagccagagtttggacaggctgatgaatcctctcatcgaccagtacctgtactacctgtcaagaacccagtctacgggaggcacagcgggaacccagcagttgctgttttctcaggccgggcctagcaacatgtcggctcaggccagaaactggctgcctggaccctgctacagacagcagcgcgtctccacgacactgtcgcaaaacaacaacagcaactttgcctggactggtgccaccaagtatcatctgaacggcagagactctctggtgaattcgggcgtcgccatggcaaccaacaaggacgacgaggaccgcttcttcccatccagcggcatcctcatgtttggcaagcagggagctggaaaagacaacgtggactatagcaacgtgatgctaaccagcgaggaagaaatcaagaccaccaaccccgtggccacagaacagtatggcgtggtggctgataacctacagcagcaaaacaccgctcctattgtgggggccgtcaacagccagggagccttacctggcatggtctggcagaaccgggacgtgtacctgcagggtcctatttgggccaagattcctcacacagatggcaactttcacccgtctcctttaatgggcggctttggacttaaacatccgcctcctcagatcctcatcaaaaacactcctgttcctgcggatcctccaacagcgttcaaccaggccaagctgaattctttcatcacgcagtacagcaccggacaagtcagcgtggagatcgagtgggagctgcagaaggagaacagcaagcgctggaacccagagattcagtatacttccaactactacaaatctacaaatgtggactttgctgttaatactgagggtgtttactctgagcctcgccccattggcactcgttaccccacccgtaatctgtaa\n"
     ]
    }
   ],
   "source": [
    "#Cluster 1 Rep = hu.67\n",
    "from Bio import SeqIO\n",
    "from Bio.SeqRecord import SeqRecord\n",
    "from Bio.Seq import Seq\n",
    "\n",
    "record_index = SeqIO.index('seqs.fa','fasta')\n",
    "print('hu.67')\n",
    "print(record_index['hu.67'].seq)\n",
    "print('')\n",
    "#BLAST results show 100% ID with \"Adeno-associated virus isolate hu.67 capsid protein VP1 (cap) gene, complete cds\"\n",
    "#All other results are <100% ID and also AAV VP1 cap gene, but some hu and some different species\n",
    "\n",
    "#Cluster 2 Rep = rh.55\n",
    "print('rh.55')\n",
    "print(record_index['rh.55'].seq)\n",
    "print('')\n",
    "#BLAST results show 100% ID with \"Adeno-associated virus isolate rh.55 capsid protein VP1 (cap) gene, complete cds\"\n",
    "#All other results are <100% ID and also AAV VP1 cap gene, but some rh and some different species\n",
    "\n",
    "#Cluster 3 Rep = rh.53\n",
    "print('rh.53')\n",
    "print(record_index['rh.53'].seq)\n",
    "#BLAST results show 100% ID with \"Adeno-associated virus isolate rh.53 capsid protein VP1 (cap) gene, complete cds\"\n",
    "#All other results are <100% ID and also AAV VP1 cap gene, but some rh and some different species\n"
   ]
  },
  {
   "cell_type": "code",
   "execution_count": 22,
   "metadata": {},
   "outputs": [
    {
     "data": {
      "image/png": "[encoded data removed]",
      "text/plain": [
       "<Figure size 432x288 with 1 Axes>"
      ]
     },
     "metadata": {
      "needs_background": "light"
     },
     "output_type": "display_data"
    }
   ],
   "source": [
    "from Bio import AlignIO\n",
    "from Bio.SeqUtils import GC\n",
    "%matplotlib inline\n",
    "import numpy as np\n",
    "import matplotlib.pyplot as plt\n",
    "\n",
    "align = AlignIO.read('seqs.aligned.fa','fasta')\n",
    "\n",
    "#Cluster 1 Data Acquisition\n",
    "gc = align[21:26]\n",
    "i=0\n",
    "gclist=[]\n",
    "while i < 2237:\n",
    "    gclist.append(GC(gc[:,i])/100)\n",
    "    i+=1\n",
    "atlist=[]\n",
    "for i in gclist:\n",
    "    atlist.append(1-i)\n",
    "\n",
    "#Cluster 1 Bar Graph\n",
    "N=len(gclist)\n",
    "gcdata = gclist\n",
    "atdata = atlist\n",
    "ind = np.arange(N)\n",
    "\n",
    "p1 = plt.bar(ind, gcdata)\n",
    "p2 = plt.bar(ind, atdata, bottom=gcdata)\n",
    "\n",
    "plt.ylabel('%AT or %GC')\n",
    "plt.xlabel('Position in Sequence')\n",
    "plt.title('Cluster 1 GC/AT Distribution')\n",
    "\n",
    "plt.show()"
   ]
  },
  {
   "cell_type": "code",
   "execution_count": 17,
   "metadata": {},
   "outputs": [
    {
     "data": {
      "image/png": "[encoded data removed]",
      "text/plain": [
       "<Figure size 432x288 with 1 Axes>"
      ]
     },
     "metadata": {
      "needs_background": "light"
     },
     "output_type": "display_data"
    }
   ],
   "source": [
    "from Bio import AlignIO\n",
    "from Bio.SeqUtils import GC\n",
    "%matplotlib inline\n",
    "import numpy as np\n",
    "import matplotlib.pyplot as plt\n",
    "\n",
    "#Cluster2 Data Acquisition\n",
    "\n",
    "align = AlignIO.read('seqs.aligned.fa','fasta')\n",
    "\n",
    "gc = align[43:48]\n",
    "i=0\n",
    "gclist=[]\n",
    "while i < 2237:\n",
    "    gclist.append(GC(gc[:,i])/100)\n",
    "    i+=1\n",
    "atlist=[]\n",
    "for i in gclist:\n",
    "    atlist.append(1-i)\n",
    "\n",
    "#Cluster 2 Bar Graph\n",
    "N=len(gclist)\n",
    "gcdata = gclist\n",
    "atdata = atlist\n",
    "ind = np.arange(N)\n",
    "\n",
    "p1 = plt.bar(ind, gcdata)\n",
    "p2 = plt.bar(ind, atdata,\n",
    "             bottom=gcdata)\n",
    "\n",
    "plt.ylabel('%AT or %GC')\n",
    "plt.xlabel('Position in Sequence')\n",
    "plt.title('Cluster 2 GC/AT Distribution')\n",
    "\n",
    "plt.show()\n"
   ]
  },
  {
   "cell_type": "code",
   "execution_count": 18,
   "metadata": {},
   "outputs": [
    {
     "data": {
      "image/png": "[encoded data removed]",
      "text/plain": [
       "<Figure size 432x288 with 1 Axes>"
      ]
     },
     "metadata": {
      "needs_background": "light"
     },
     "output_type": "display_data"
    }
   ],
   "source": [
    "from Bio import AlignIO\n",
    "from Bio.SeqUtils import GC\n",
    "%matplotlib inline\n",
    "import numpy as np\n",
    "import matplotlib.pyplot as plt\n",
    "\n",
    "#Cluster3 Data Acquisition\n",
    "\n",
    "align = AlignIO.read('seqs.aligned.fa','fasta')\n",
    "\n",
    "gc = align[12:16]\n",
    "i=0\n",
    "gclist=[]\n",
    "while i < 2237:\n",
    "    gclist.append(GC(gc[:,i])/100)\n",
    "    i+=1\n",
    "atlist=[]\n",
    "for i in gclist:\n",
    "    atlist.append(1-i)\n",
    "\n",
    "#Cluster 2 Bar Graph\n",
    "N=len(gclist)\n",
    "gcdata = gclist\n",
    "atdata = atlist\n",
    "ind = np.arange(N)\n",
    "\n",
    "p1 = plt.bar(ind, gcdata)\n",
    "p2 = plt.bar(ind, atdata,\n",
    "             bottom=gcdata)\n",
    "\n",
    "plt.ylabel('%AT or %GC')\n",
    "plt.xlabel('Position in Sequence')\n",
    "plt.title('Cluster 3 GC/AT Distribution')\n",
    "\n",
    "plt.show()\n"
   ]
  },
  {
   "cell_type": "code",
   "execution_count": 10,
   "metadata": {},
   "outputs": [
    {
     "name": "stdout",
     "output_type": "stream",
     "text": [
      "[[2217, 2217, 2217, 2217, 2217], [2187, 2187, 2187, 2187, 2187], [2217, 2217, 2217, 2217]]\n"
     ]
    },
    {
     "data": {
      "image/png": "[encoded data removed]",
      "text/plain": [
       "<Figure size 432x288 with 1 Axes>"
      ]
     },
     "metadata": {
      "needs_background": "light"
     },
     "output_type": "display_data"
    }
   ],
   "source": [
    "from Bio import AlignIO\n",
    "from Bio.SeqUtils import GC\n",
    "%matplotlib inline\n",
    "import numpy as np\n",
    "import matplotlib.pyplot as plt\n",
    "\n",
    "record_index = SeqIO.index('seqs.fa','fasta')\n",
    "\n",
    "\n",
    "\n",
    "\n",
    "\n",
    "#Cluster 1 Data Acquisition\n",
    "rh10 = len(record_index['rh.10'])\n",
    "bb1 = len(record_index['bb.1'])\n",
    "bb2 = len(record_index['bb.2'])\n",
    "hu17 = len(record_index['hu.17'])\n",
    "hu6 = len(record_index['hu.6'])\n",
    "cluster1 = [rh10,bb1,bb2,hu17,hu6]\n",
    "\n",
    "#Cluster 2 Data Acquisition\n",
    "cy4 = len(record_index['cy.4'])\n",
    "cy6 = len(record_index['cy.6'])\n",
    "cy3 = len(record_index['cy.3'])\n",
    "cy5 = len(record_index['cy.5'])\n",
    "rh13 = len(record_index['rh.13'])\n",
    "cluster2 = [cy4,cy6,cy3,cy5,rh13]\n",
    "\n",
    "#Cluster 3 Data Acquisition\n",
    "rh57 = len(record_index['rh.57'])\n",
    "rh51 = len(record_index['rh.51'])\n",
    "rh49 = len(record_index['rh.49'])\n",
    "hu39 = len(record_index['hu.39'])\n",
    "cluster3 = [rh57,rh51,rh49,hu39]\n",
    "\n",
    "data = [cluster1,cluster2,cluster3]\n",
    "\n",
    "#Boxplot generation\n",
    "clusterbox = plt.boxplot(data,labels = ['Cluster 1', 'Cluster 2', 'Cluster 3'])\n",
    "plt.show()"
   ]
  },
  {
   "cell_type": "code",
   "execution_count": 96,
   "metadata": {},
   "outputs": [
    {
     "name": "stdout",
     "output_type": "stream",
     "text": [
      "hu.31\n",
      "hu.32\n",
      "hu.14\n",
      "hu.44\n",
      "hu.46\n",
      "hu.43\n",
      "hu.48\n",
      "pi.3\n",
      "pi.1\n",
      "pi.2\n",
      "rh.43\n",
      "rh.58\n",
      "rh.57\n",
      "hu.39\n",
      "rh.49\n",
      "rh.51\n",
      "rh.61\n",
      "rh.52\n",
      "rh.50\n",
      "rh.53\n",
      "rh.64\n",
      "bb.1\n",
      "bb.2\n",
      "rh.10\n",
      "hu.17\n",
      "hu.6\n",
      "rh.2\n",
      "rh.40\n",
      "hu.41\n",
      "rh.38\n",
      "hu.66\n",
      "hu.67\n",
      "hu.42\n",
      "hu.37\n",
      "hu.40\n",
      "cy.2\n",
      "rh.54\n",
      "rh.55\n",
      "rh.48\n",
      "rh.62\n",
      "rh.35\n",
      "rh.36\n",
      "rh.37\n",
      "cy.4\n",
      "cy.6\n",
      "cy.3\n",
      "cy.5\n",
      "rh.13\n"
     ]
    }
   ],
   "source": [
    "from Bio import AlignIO\n",
    "from Bio.SeqUtils import GC\n",
    "align = AlignIO.read('seqs.aligned.fa','fasta')\n",
    "\n",
    "for i in align:\n",
    "    print(i.id)\n",
    "    "
   ]
  }
 ],
 "metadata": {
  "kernelspec": {
   "display_name": "Python 3",
   "language": "python",
   "name": "python3"
  },
  "language_info": {
   "codemirror_mode": {
    "name": "ipython",
    "version": 3
   },
   "file_extension": ".py",
   "mimetype": "text/x-python",
   "name": "python",
   "nbconvert_exporter": "python",
   "pygments_lexer": "ipython3",
   "version": "3.7.0"
  }
 },
 "nbformat": 4,
 "nbformat_minor": 2
}
