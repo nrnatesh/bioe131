{
 "cells": [
  {
   "cell_type": "markdown",
   "metadata": {},
   "source": [
    "### Methodology for lab:\n",
    "* Search the \"protein\" database using Entrez.\n",
    "* Retrieve the first id from each IdList. \n",
    "* Make a list of these ids\n",
    "* Search nucleotide database with these ids and retrieve an accession number\n",
    "* Use accession number to loop through list of ids and make table in the loop\n",
    "\n",
    "### Problems:\n",
    "* Many ECs that we used returned bad data; accession numbers were not formatted correctly so parsing it was very\n",
    "* difficult.\n",
    "* Some ECs took us to an enzyme, but the enzyme's accession number for the nucleotide database led to a full\n",
    "* genome sequence.\n",
    "\n",
    "### Ultimately, we retrieved a number of data points for a table, created the tables, and inputted the relevant data\n",
    "### as best as we could. However we were also unable to view the tables created (\"Not UTF-8 encoded\").\n"
   ]
  },
  {
   "cell_type": "code",
   "execution_count": 48,
   "metadata": {},
   "outputs": [],
   "source": [
    "from Bio import Entrez\n",
    "from Bio import SeqIO\n",
    "\n",
    "Entrez.email = 'nrnatesh@berkeley.edu'\n",
    "\n",
    "glycolysis = ['Escherichia coli[ORGN] EC 5.1.3.3', 'Escherichia coli[ORGN] EC 3.2.1.86', 'Escherichia coli[ORGN] EC 5.1.3.15'\n",
    "           , 'Escherichia coli[ORGN] EC 4.1.2.13', 'Drosophila[ORGN] EC 5.1.3.3',\n",
    "           'Drosophila[ORGN] EC 3.2.1.86', 'Drosophila[ORGN] EC 5.1.3.15', \n",
    "           'Drosophila[ORGN] EC 4.1.2.13', 'Homo sapiens[ORGN] EC 5.1.3.3', 'Homo sapiens[ORGN] EC 3.2.1.86',\n",
    "           'Homo sapiens[ORGN] EC 5.1.3.15', 'Homo sapiens[ORGN] EC 4.1.2.13']\n",
    "\n",
    "ids = []\n",
    "\n",
    "for enzyme in glycolysis:\n",
    "    handle = Entrez.esearch(db = 'protein', term = enzyme, sort = 'relevance', idtype = 'acc')\n",
    "    results = Entrez.read(handle)['IdList']\n",
    "    if results:\n",
    "        ids.append(results[0])\n",
    "\n",
    "accessions = []\n",
    "for i in ids:\n",
    "    record = Entrez.efetch(db = 'nucleotide', id = i, rettype = 'gb', retmode = 'text')\n",
    "    seq = SeqIO.read(record,'genbank')\n",
    "    accessions.append(seq.annotations['db_source'])\n",
    "    \n",
    "accessionsfinal=[]\n",
    "for i in accessions:\n",
    "    i = i.split()\n",
    "    accessionsfinal.append(i[-1])\n",
    "\n",
    "for accession in accessionsfinal:\n",
    "    record = Entrez.efetch(db = 'nucleotide', id = accession, rettype = 'gb', retmode = 'text')\n",
    "    seq = SeqIO.read(record,'genbank')\n",
    "    c.execute(\"\"\"INSERT INTO genes\n",
    "                         VALUES (?,\n",
    "                                 ?,\n",
    "                                 ?,\n",
    "                                 ?);\"\"\",\n",
    "             (seq.id, seq.name, seq.description, str(seq.seq)))\n",
    "    \n"
   ]
  },
  {
   "cell_type": "code",
   "execution_count": null,
   "metadata": {},
   "outputs": [],
   "source": []
  },
  {
   "cell_type": "code",
   "execution_count": 49,
   "metadata": {},
   "outputs": [],
   "source": [
    "pentphos = ['e coli[ORGN] EC 3.1.3.11', 'e coli[ORGN] EC 5.3.1.1', 'e coli[ORGN] EC 3.2.1.86',\n",
    "            'e coli[ORGN] EC 2.7.1.90', 'Drosophila[ORGN] EC 3.1.3.11',\n",
    "            'Drosophila[ORGN] EC 5.3.1.1','Drosophila[ORGN] EC 3.2.1.86',\n",
    "            'Drosophila[ORGN] EC 2.7.1.90', 'Homo sapiens[ORGN] EC 3.1.3.11', 'Homo sapiens[ORGN] EC 5.3.1.1',\n",
    "            'Homo sapiens[ORGN] EC 3.2.1.86',\n",
    "            'Homo sapiens[ORGN] EC 2.7.1.90']\n",
    "\n",
    "ids = []\n",
    "\n",
    "for enzyme in pentphos:\n",
    "    handle = Entrez.esearch(db = 'protein', term = enzyme, sort = 'relevance', idtype = 'acc')\n",
    "    results = Entrez.read(handle)['IdList']\n",
    "    if results:\n",
    "        ids.append(results[0])\n",
    "\n",
    "accessions = []\n",
    "for i in ids:\n",
    "    record = Entrez.efetch(db = 'nucleotide', id = i, rettype = 'gb', retmode = 'text')\n",
    "    seq = SeqIO.read(record,'genbank')\n",
    "    accessions.append(seq.annotations['db_source'])\n",
    "\n",
    "for i in accessions:\n",
    "    i = i.split()\n",
    "    accessionsfinal.append(i[-1])\n",
    "\n",
    "accessionsfinal = []\n",
    "for accession in accessionsfinal:\n",
    "    record = Entrez.efetch(db = 'nucleotide', id = accession, rettype = 'gb', retmode = 'text')\n",
    "    seq = SeqIO.read(record,'genbank')\n",
    "    c.execute(\"\"\"INSERT INTO genes\n",
    "                         VALUES (?,\n",
    "                                 ?,\n",
    "                                 ?,\n",
    "                                 ?);\"\"\",\n",
    "             (seq.id, seq.name, seq.description, str(seq.seq)))"
   ]
  },
  {
   "cell_type": "code",
   "execution_count": 47,
   "metadata": {},
   "outputs": [
    {
     "data": {
      "text/plain": [
       "<sqlite3.Cursor at 0x11097e2d0>"
      ]
     },
     "execution_count": 47,
     "metadata": {},
     "output_type": "execute_result"
    }
   ],
   "source": [
    "import sqlite3\n",
    "conn = sqlite3.connect('data.db')\n",
    "c = conn.cursor()\n",
    "\n",
    "c.execute(\"\"\"CREATE TABLE genes (id INT,\n",
    "                                 name TEXT,\n",
    "                                 description TEXT,\n",
    "                                 nucleotide_sequence TEXT);\"\"\")"
   ]
  },
  {
   "cell_type": "code",
   "execution_count": 63,
   "metadata": {},
   "outputs": [],
   "source": [
    "tca = ['Escherichia coli[ORGN] EC 2.3.1.12', \n",
    "       'Escherichia coli[ORGN] EC 6.2.1.13', \n",
    "       'Escherichia coli[ORGN] EC 4.1.1.49',\n",
    "       'Escherichia coli[ORGN] EC 1.1.1.27', \n",
    "       'Drosophila[ORGN] EC 2.3.1.12',\n",
    "        'Drosophila[ORGN] EC 6.2.1.13',\n",
    "       'Drosophila[ORGN] EC 4.1.1.49',\n",
    "        'Drosophila[ORGN] EC 1.1.1.27', 'Homo sapiens[ORGN] EC 2.3.1.12',\n",
    "        'Homo sapiens[ORGN] EC 6.2.1.13',\n",
    "    'Homo sapiens[ORGN] EC 4.1.1.49']\n",
    "\n",
    "\n",
    "ids = []\n",
    "\n",
    "for enzyme in tca:\n",
    "    handle = Entrez.esearch(db = 'protein', term = enzyme, sort = 'relevance', idtype = 'acc')\n",
    "    results = Entrez.read(handle)['IdList']\n",
    "    if results:\n",
    "        ids.append(results[0])\n",
    "\n",
    "accessions = []\n",
    "for i in ids:\n",
    "    record = Entrez.efetch(db = 'nucleotide', id = i, rettype = 'gb', retmode = 'text')\n",
    "    seq = SeqIO.read(record,'genbank')\n",
    "    accessions.append(seq.annotations['db_source'])\n",
    "\n",
    "accessionsfinal = []\n",
    "for i in accessions:\n",
    "    i = i.split()\n",
    "    accessionsfinal.append(i[-1])\n",
    "    \n",
    "\n",
    "for accession in accessionsfinal:\n",
    "    record = Entrez.efetch(db = 'nucleotide', id = accession, rettype = 'gb', retmode = 'text')\n",
    "    seq = SeqIO.read(record,'genbank')\n",
    "    c.execute(\"\"\"INSERT INTO genes\n",
    "                         VALUES (?,\n",
    "                                 ?,\n",
    "                                 ?,\n",
    "                                 ?);\"\"\",\n",
    "             (seq.id, seq.name, seq.description, str(seq.seq)))"
   ]
  },
  {
   "cell_type": "code",
   "execution_count": 65,
   "metadata": {},
   "outputs": [
    {
     "data": {
      "text/plain": [
       "<sqlite3.Cursor at 0x11097e2d0>"
      ]
     },
     "execution_count": 65,
     "metadata": {},
     "output_type": "execute_result"
    }
   ],
   "source": [
    "c.execute(\"\"\"CREATE TABLE pathways (name TEXT,\n",
    "                                 description TEXT);\"\"\")\n",
    "\n",
    "c.execute(\"\"\"CREATE TABLE enzymes (name TEXT, function TEXT\n",
    "                                 );\"\"\")\n",
    "\n",
    "c.execute(\"\"\"INSERT INTO pathways (name,\n",
    "                                   description)\n",
    "                                   VALUES ('glycolysis',\n",
    "                                           'Breakdown of glucose by enzymes');\"\"\")\n",
    "c.execute(\"\"\"INSERT INTO pathways (name,\n",
    "                                   description)\n",
    "                                   VALUES ('pentose phosphate pathway',\n",
    "                                           'Generates NADPH and pentoses');\"\"\")\n",
    "c.execute(\"\"\"INSERT INTO pathways (name,\n",
    "                                   description)\n",
    "                                   VALUES ('TCA',\n",
    "                                           'Oxidation of acetyl-CoA');\"\"\")\n",
    "\n"
   ]
  },
  {
   "cell_type": "code",
   "execution_count": 69,
   "metadata": {},
   "outputs": [
    {
     "ename": "RuntimeError",
     "evalue": "Search Backend failed: read request has timed out. peer: 130.14.18.61:7011",
     "output_type": "error",
     "traceback": [
      "\u001b[0;31m---------------------------------------------------------------------------\u001b[0m",
      "\u001b[0;31mRuntimeError\u001b[0m                              Traceback (most recent call last)",
      "\u001b[0;32m<ipython-input-69-c6f5b784d163>\u001b[0m in \u001b[0;36m<module>\u001b[0;34m()\u001b[0m\n\u001b[1;32m      8\u001b[0m \u001b[0;32mfor\u001b[0m \u001b[0menzyme\u001b[0m \u001b[0;32min\u001b[0m \u001b[0mglycolysis\u001b[0m\u001b[0;34m:\u001b[0m\u001b[0;34m\u001b[0m\u001b[0m\n\u001b[1;32m      9\u001b[0m     \u001b[0mhandle\u001b[0m \u001b[0;34m=\u001b[0m \u001b[0mEntrez\u001b[0m\u001b[0;34m.\u001b[0m\u001b[0mesearch\u001b[0m\u001b[0;34m(\u001b[0m\u001b[0mdb\u001b[0m \u001b[0;34m=\u001b[0m \u001b[0;34m'protein'\u001b[0m\u001b[0;34m,\u001b[0m \u001b[0mterm\u001b[0m \u001b[0;34m=\u001b[0m \u001b[0menzyme\u001b[0m\u001b[0;34m,\u001b[0m \u001b[0msort\u001b[0m \u001b[0;34m=\u001b[0m \u001b[0;34m'relevance'\u001b[0m\u001b[0;34m,\u001b[0m \u001b[0midtype\u001b[0m \u001b[0;34m=\u001b[0m \u001b[0;34m'acc'\u001b[0m\u001b[0;34m)\u001b[0m\u001b[0;34m\u001b[0m\u001b[0m\n\u001b[0;32m---> 10\u001b[0;31m     \u001b[0mresults\u001b[0m \u001b[0;34m=\u001b[0m \u001b[0mEntrez\u001b[0m\u001b[0;34m.\u001b[0m\u001b[0mread\u001b[0m\u001b[0;34m(\u001b[0m\u001b[0mhandle\u001b[0m\u001b[0;34m)\u001b[0m\u001b[0;34m[\u001b[0m\u001b[0;34m'IdList'\u001b[0m\u001b[0;34m]\u001b[0m\u001b[0;34m\u001b[0m\u001b[0m\n\u001b[0m\u001b[1;32m     11\u001b[0m     \u001b[0;32mif\u001b[0m \u001b[0mresults\u001b[0m\u001b[0;34m:\u001b[0m\u001b[0;34m\u001b[0m\u001b[0m\n\u001b[1;32m     12\u001b[0m         \u001b[0mids\u001b[0m\u001b[0;34m.\u001b[0m\u001b[0mappend\u001b[0m\u001b[0;34m(\u001b[0m\u001b[0mresults\u001b[0m\u001b[0;34m[\u001b[0m\u001b[0;36m0\u001b[0m\u001b[0;34m]\u001b[0m\u001b[0;34m)\u001b[0m\u001b[0;34m\u001b[0m\u001b[0m\n",
      "\u001b[0;32m/usr/local/lib/python3.7/site-packages/Bio/Entrez/__init__.py\u001b[0m in \u001b[0;36mread\u001b[0;34m(handle, validate)\u001b[0m\n\u001b[1;32m    456\u001b[0m     \u001b[0;32mfrom\u001b[0m \u001b[0;34m.\u001b[0m\u001b[0mParser\u001b[0m \u001b[0;32mimport\u001b[0m \u001b[0mDataHandler\u001b[0m\u001b[0;34m\u001b[0m\u001b[0m\n\u001b[1;32m    457\u001b[0m     \u001b[0mhandler\u001b[0m \u001b[0;34m=\u001b[0m \u001b[0mDataHandler\u001b[0m\u001b[0;34m(\u001b[0m\u001b[0mvalidate\u001b[0m\u001b[0;34m)\u001b[0m\u001b[0;34m\u001b[0m\u001b[0m\n\u001b[0;32m--> 458\u001b[0;31m     \u001b[0mrecord\u001b[0m \u001b[0;34m=\u001b[0m \u001b[0mhandler\u001b[0m\u001b[0;34m.\u001b[0m\u001b[0mread\u001b[0m\u001b[0;34m(\u001b[0m\u001b[0mhandle\u001b[0m\u001b[0;34m)\u001b[0m\u001b[0;34m\u001b[0m\u001b[0m\n\u001b[0m\u001b[1;32m    459\u001b[0m     \u001b[0;32mreturn\u001b[0m \u001b[0mrecord\u001b[0m\u001b[0;34m\u001b[0m\u001b[0m\n\u001b[1;32m    460\u001b[0m \u001b[0;34m\u001b[0m\u001b[0m\n",
      "\u001b[0;32m/usr/local/lib/python3.7/site-packages/Bio/Entrez/Parser.py\u001b[0m in \u001b[0;36mread\u001b[0;34m(self, handle)\u001b[0m\n\u001b[1;32m    360\u001b[0m                 \u001b[0mhandle\u001b[0m \u001b[0;34m=\u001b[0m \u001b[0mBytesIO\u001b[0m\u001b[0;34m(\u001b[0m\u001b[0m_as_bytes\u001b[0m\u001b[0;34m(\u001b[0m\u001b[0mhandle\u001b[0m\u001b[0;34m.\u001b[0m\u001b[0mread\u001b[0m\u001b[0;34m(\u001b[0m\u001b[0;34m)\u001b[0m\u001b[0;34m)\u001b[0m\u001b[0;34m)\u001b[0m\u001b[0;34m\u001b[0m\u001b[0m\n\u001b[1;32m    361\u001b[0m         \u001b[0;32mtry\u001b[0m\u001b[0;34m:\u001b[0m\u001b[0;34m\u001b[0m\u001b[0m\n\u001b[0;32m--> 362\u001b[0;31m             \u001b[0mself\u001b[0m\u001b[0;34m.\u001b[0m\u001b[0mparser\u001b[0m\u001b[0;34m.\u001b[0m\u001b[0mParseFile\u001b[0m\u001b[0;34m(\u001b[0m\u001b[0mhandle\u001b[0m\u001b[0;34m)\u001b[0m\u001b[0;34m\u001b[0m\u001b[0m\n\u001b[0m\u001b[1;32m    363\u001b[0m         \u001b[0;32mexcept\u001b[0m \u001b[0mexpat\u001b[0m\u001b[0;34m.\u001b[0m\u001b[0mExpatError\u001b[0m \u001b[0;32mas\u001b[0m \u001b[0me\u001b[0m\u001b[0;34m:\u001b[0m\u001b[0;34m\u001b[0m\u001b[0m\n\u001b[1;32m    364\u001b[0m             \u001b[0;32mif\u001b[0m \u001b[0mself\u001b[0m\u001b[0;34m.\u001b[0m\u001b[0mparser\u001b[0m\u001b[0;34m.\u001b[0m\u001b[0mStartElementHandler\u001b[0m\u001b[0;34m:\u001b[0m\u001b[0;34m\u001b[0m\u001b[0m\n",
      "\u001b[0;32m/private/tmp/python-20180713-79217-1cwg97/Python-3.7.0/Modules/pyexpat.c\u001b[0m in \u001b[0;36mEndElement\u001b[0;34m()\u001b[0m\n",
      "\u001b[0;32m/usr/local/lib/python3.7/site-packages/Bio/Entrez/Parser.py\u001b[0m in \u001b[0;36mendElementHandler\u001b[0;34m(self, name)\u001b[0m\n\u001b[1;32m    498\u001b[0m                 \u001b[0;32mreturn\u001b[0m\u001b[0;34m\u001b[0m\u001b[0m\n\u001b[1;32m    499\u001b[0m         \u001b[0mself\u001b[0m\u001b[0;34m.\u001b[0m\u001b[0mconsumer\u001b[0m \u001b[0;34m=\u001b[0m \u001b[0mconsumer\u001b[0m\u001b[0;34m.\u001b[0m\u001b[0mparent\u001b[0m\u001b[0;34m\u001b[0m\u001b[0m\n\u001b[0;32m--> 500\u001b[0;31m         \u001b[0mvalue\u001b[0m \u001b[0;34m=\u001b[0m \u001b[0mconsumer\u001b[0m\u001b[0;34m.\u001b[0m\u001b[0mvalue\u001b[0m\u001b[0;34m\u001b[0m\u001b[0m\n\u001b[0m\u001b[1;32m    501\u001b[0m         \u001b[0;32mif\u001b[0m \u001b[0mself\u001b[0m\u001b[0;34m.\u001b[0m\u001b[0mconsumer\u001b[0m \u001b[0;32mis\u001b[0m \u001b[0;32mNone\u001b[0m\u001b[0;34m:\u001b[0m\u001b[0;34m\u001b[0m\u001b[0m\n\u001b[1;32m    502\u001b[0m             \u001b[0mself\u001b[0m\u001b[0;34m.\u001b[0m\u001b[0mrecord\u001b[0m \u001b[0;34m=\u001b[0m \u001b[0mvalue\u001b[0m\u001b[0;34m\u001b[0m\u001b[0m\n",
      "\u001b[0;32m/usr/local/lib/python3.7/site-packages/Bio/Entrez/Parser.py\u001b[0m in \u001b[0;36mvalue\u001b[0;34m(self)\u001b[0m\n\u001b[1;32m    180\u001b[0m             \u001b[0;32mreturn\u001b[0m \u001b[0;32mNone\u001b[0m\u001b[0;34m\u001b[0m\u001b[0m\n\u001b[1;32m    181\u001b[0m         \u001b[0;32melse\u001b[0m\u001b[0;34m:\u001b[0m\u001b[0;34m\u001b[0m\u001b[0m\n\u001b[0;32m--> 182\u001b[0;31m             \u001b[0;32mraise\u001b[0m \u001b[0mRuntimeError\u001b[0m\u001b[0;34m(\u001b[0m\u001b[0mvalue\u001b[0m\u001b[0;34m)\u001b[0m\u001b[0;34m\u001b[0m\u001b[0m\n\u001b[0m\u001b[1;32m    183\u001b[0m \u001b[0;34m\u001b[0m\u001b[0m\n\u001b[1;32m    184\u001b[0m \u001b[0;34m\u001b[0m\u001b[0m\n",
      "\u001b[0;31mRuntimeError\u001b[0m: Search Backend failed: read request has timed out. peer: 130.14.18.61:7011"
     ]
    }
   ],
   "source": [
    "ids = []\n",
    "glycolysis = ['Escherichia coli[ORGN] EC 5.1.3.3', 'Escherichia coli[ORGN] EC 3.2.1.86', 'Escherichia coli[ORGN] EC 5.1.3.15'\n",
    "           , 'Escherichia coli[ORGN] EC 4.1.2.13', 'Drosophila[ORGN] EC 5.1.3.3',\n",
    "           'Drosophila[ORGN] EC 3.2.1.86', 'Drosophila[ORGN] EC 5.1.3.15', \n",
    "           'Drosophila[ORGN] EC 4.1.2.13', 'Homo sapiens[ORGN] EC 5.1.3.3', 'Homo sapiens[ORGN] EC 3.2.1.86',\n",
    "           'Homo sapiens[ORGN] EC 5.1.3.15', 'Homo sapiens[ORGN] EC 4.1.2.13']\n",
    "\n",
    "for enzyme in glycolysis:\n",
    "    handle = Entrez.esearch(db = 'protein', term = enzyme, sort = 'relevance', idtype = 'acc')\n",
    "    results = Entrez.read(handle)['IdList']\n",
    "    if results:\n",
    "        ids.append(results[0])\n",
    "\n",
    "for i in ids:\n",
    "    record = Entrez.efetch(db = 'protein', id = i, rettype = 'gb', retmode = 'text')\n",
    "    seq = SeqIO.read(record,'genbank')\n",
    "    c.execute(\"\"\"INSERT INTO enzymes\n",
    "                         VALUES (?,\n",
    "                                 ?);\"\"\",\n",
    "             (seq.name, seq.description))"
   ]
  },
  {
   "cell_type": "code",
   "execution_count": 70,
   "metadata": {},
   "outputs": [],
   "source": [
    "ids = []\n",
    "tca = ['Escherichia coli[ORGN] EC 2.3.1.12', \n",
    "       'Escherichia coli[ORGN] EC 6.2.1.13', \n",
    "       'Escherichia coli[ORGN] EC 4.1.1.49',\n",
    "       'Escherichia coli[ORGN] EC 1.1.1.27', \n",
    "       'Drosophila[ORGN] EC 2.3.1.12',\n",
    "        'Drosophila[ORGN] EC 6.2.1.13',\n",
    "       'Drosophila[ORGN] EC 4.1.1.49',\n",
    "        'Drosophila[ORGN] EC 1.1.1.27', 'Homo sapiens[ORGN] EC 2.3.1.12',\n",
    "        'Homo sapiens[ORGN] EC 6.2.1.13',\n",
    "    'Homo sapiens[ORGN] EC 4.1.1.49']\n",
    "\n",
    "for enzyme in tca:\n",
    "    handle = Entrez.esearch(db = 'protein', term = enzyme, sort = 'relevance', idtype = 'acc')\n",
    "    results = Entrez.read(handle)['IdList']\n",
    "    if results:\n",
    "        ids.append(results[0])\n",
    "\n",
    "for i in ids:\n",
    "    record = Entrez.efetch(db = 'protein', id = i, rettype = 'gb', retmode = 'text')\n",
    "    seq = SeqIO.read(record,'genbank')\n",
    "    c.execute(\"\"\"INSERT INTO enzymes\n",
    "                         VALUES (?,\n",
    "                                 ?);\"\"\",\n",
    "             (seq.name, seq.description))"
   ]
  },
  {
   "cell_type": "code",
   "execution_count": 68,
   "metadata": {},
   "outputs": [],
   "source": [
    "ids = []\n",
    "pentphos = ['e coli[ORGN] EC 3.1.3.11', 'e coli[ORGN] EC 5.3.1.1', 'e coli[ORGN] EC 3.2.1.86',\n",
    "            'e coli[ORGN] EC 2.7.1.90', 'Drosophila[ORGN] EC 3.1.3.11',\n",
    "            'Drosophila[ORGN] EC 5.3.1.1','Drosophila[ORGN] EC 3.2.1.86',\n",
    "            'Drosophila[ORGN] EC 2.7.1.90', 'Homo sapiens[ORGN] EC 3.1.3.11', 'Homo sapiens[ORGN] EC 5.3.1.1',\n",
    "            'Homo sapiens[ORGN] EC 3.2.1.86',\n",
    "            'Homo sapiens[ORGN] EC 2.7.1.90']\n",
    "\n",
    "for enzyme in pentphos:\n",
    "    handle = Entrez.esearch(db = 'protein', term = enzyme, sort = 'relevance', idtype = 'acc')\n",
    "    results = Entrez.read(handle)['IdList']\n",
    "    if results:\n",
    "        ids.append(results[0])\n",
    "\n",
    "for i in ids:\n",
    "    record = Entrez.efetch(db = 'protein', id = i, rettype = 'gb', retmode = 'text')\n",
    "    seq = SeqIO.read(record,'genbank')\n",
    "    c.execute(\"\"\"INSERT INTO enzymes\n",
    "                         VALUES (?,\n",
    "                                 ?);\"\"\",\n",
    "             (seq.name, seq.description))"
   ]
  },
  {
   "cell_type": "code",
   "execution_count": 73,
   "metadata": {},
   "outputs": [],
   "source": [
    "conn.commit()"
   ]
  }
 ],
 "metadata": {
  "kernelspec": {
   "display_name": "Python 3",
   "language": "python",
   "name": "python3"
  },
  "language_info": {
   "codemirror_mode": {
    "name": "ipython",
    "version": 3
   },
   "file_extension": ".py",
   "mimetype": "text/x-python",
   "name": "python",
   "nbconvert_exporter": "python",
   "pygments_lexer": "ipython3",
   "version": "3.7.0"
  }
 },
 "nbformat": 4,
 "nbformat_minor": 2
}
