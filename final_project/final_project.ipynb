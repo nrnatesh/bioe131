{
 "cells": [
  {
   "cell_type": "markdown",
   "metadata": {},
   "source": [
    "# Checkpoint 1 Results (for file 4703_1 and 4703_2)\n",
    "\n",
    "**The Etcheverry Machines are being used by too many students at the moment so I was unable to assemble\n",
    "the reads in time.**\n",
    "**I did, however, send my reads to OneCodex and the results and interpretation is below.**\n"
   ]
  },
  {
   "cell_type": "markdown",
   "metadata": {},
   "source": [
    "![](read_comparison.png)"
   ]
  },
  {
   "cell_type": "markdown",
   "metadata": {},
   "source": [
    "# Interpretation\n",
    "\n",
    "Based on relative abundance, which is the most relevant for our purposes because we'd like to know what\n",
    "sorts of microbes are in our sample, our two read files are a bit different.\n",
    "\n",
    "\n",
    "Both had a substantial portion of the reads being unidentified (\"No genus\" in blue). This could mean a variety of things. It could be that the collection of DNA was faulty and there were contaminants. Or the majority of the reads are very ambiguous and cannot be pinpointed to a specific genus or species. Perhaps they contain several polypurine or polypyrimidine tracts.\n",
    "\n",
    "Secondly, the most abundant in the first file is Actinomyces genus whereas in the second file, there is no genus of high abundance. Instead, there is a medium abundance of Armatimonadetes bacterium 13_1_40CM_64_14, some Actinomyces and more Escherichia than the first.\n",
    "\n",
    "**THE DATA IS IN A TABLE BELOW**\n",
    "\n",
    "In file 1: They labeled it a \"mixed/metagenomic sample\" and \"8.86% of 53,653,647 reads were classified using the OneCodex database.\"\n",
    "\n",
    "\n",
    "In file 2: With the same label and \"8.2% of 53,653,647 reads were classified using the OneCodex database.\""
   ]
  },
  {
   "cell_type": "markdown",
   "metadata": {},
   "source": [
    "# OneCodex Data for File 1 (4703_1)\n",
    "\n",
    "| Name        | Estimated Abundance |\n",
    "| ------------- |:-----:|\n",
    "|Actinomyces odontolyticus |\t27.88% \n",
    "|Armatimonadetes bacterium 13_1_40CM_64_14\t|8.88%\n",
    "|Actinobacteria bacterium 13_1_40CM_4_65_12\t|7.17%\n",
    "|Candidatus Rokubacteria bacterium 13_1_20CM_2_69_58|\t5.51%\n",
    "|Micrococcus luteus\t|4.04%\n",
    "|Bifidobacterium longum\t|3.80%\n",
    "|Escherichia coli\t|3.22%\n",
    "|Moraxella osloensis\t|2.67%\n",
    "|Acidobacteria bacterium 13_1_20CM_2_60_10\t|2.66%\n",
    "|Acidobacteria bacterium 13_1_40CM_2_60_7\t|2.46%\n",
    "|(Remaining)\t|31.64%"
   ]
  },
  {
   "cell_type": "markdown",
   "metadata": {},
   "source": [
    "# OneCodex Data for File 2 (4703_2)\n",
    "\n",
    "|Name  | Estimated Abundance |\n",
    "|------------- |:-----:|\n",
    "|Armatimonadetes bacterium 13_1_40CM_64_14\t|16.48%\n",
    "|Candidatus Rokubacteria bacterium 13_1_20CM_2_69_58\t|10.13%\n",
    "|Escherichia coli\t|5.99%\n",
    "|Cutibacterium acnes|\t5.58%\n",
    "|Acidobacteria bacterium 13_1_20CM_2_60_10|\t4.86%\n",
    "|Acidobacteria bacterium 13_1_40CM_2_60_7|\t4.56%\n",
    "|Actinomyces odontolyticus\t|4.49%\n",
    "|Nitrospirae bacterium 13_2_20CM_2_63_8\t|2.56%\n",
    "|Candidatus Rokubacteria bacterium CSP1-6\t|2.32%\n",
    "|Candidatus Rokubacteria bacterium RIFCSPLOWO2_02_FULL_68_19\t|2.10%\n",
    "|(Remaining)\t|40.76%"
   ]
  }
 ],
 "metadata": {
  "kernelspec": {
   "display_name": "Python 3",
   "language": "python",
   "name": "python3"
  },
  "language_info": {
   "codemirror_mode": {
    "name": "ipython",
    "version": 3
   },
   "file_extension": ".py",
   "mimetype": "text/x-python",
   "name": "python",
   "nbconvert_exporter": "python",
   "pygments_lexer": "ipython3",
   "version": "3.7.0"
  }
 },
 "nbformat": 4,
 "nbformat_minor": 2
}
