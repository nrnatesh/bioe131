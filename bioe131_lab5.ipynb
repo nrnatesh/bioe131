{
 "cells": [
  {
   "cell_type": "code",
   "execution_count": 3,
   "metadata": {},
   "outputs": [],
   "source": [
    "#Riboswitch     OBS1(start,end)       OBS2(start,end)        RedI           RedII\n",
    "#-------------------------------------------------------------------------------------\n",
    "\n",
    "#YES-1              (26,47)                                 (16,21)        (49,54)\n",
    "\n",
    "#NOT-1              (44,66)                                 (40,43)        (74,77)\n",
    "\n",
    "#AND-1              (30,45)                  (49,64)        (16,23)        (70,77)\n",
    "\n",
    "#OR-1               (27,46)                  (47,66)        (16,26)        (67,77)"
   ]
  },
  {
   "cell_type": "markdown",
   "metadata": {},
   "source": [
    "# Generating plots\n",
    "* Since RNAplot is redundant (RNAfold generates a plot device), we simply inputted the sequences into RNAfold subprocess. This returns(stdout) a file whose name is the variable and extension is .ps.\n",
    "\n",
    "* .ps files can't be viewed literally so once these .ps files are created and stored in /Users/nrnatesh/bioe131 directory, I ran a ghostscript command on terminal to generage .png versions of these .ps RNAfold files. The command in terminal is as follows: \"gs -o DESIRED_OUTPUT_FILE_NAME.png -sDEVICE=pngalpha /Users/nrnatesh/bioe131/VARIABLE_NAME_ss.ps\"**\n",
    "\n",
    "**The four .png files are in my bioe131 directory.**"
   ]
  },
  {
   "cell_type": "code",
   "execution_count": 5,
   "metadata": {},
   "outputs": [],
   "source": [
    "import subprocess\n",
    "from Bio import SeqIO\n",
    "\n",
    "yes1 = \\\n",
    "\"\"\">yes1\n",
    "GGGCGACCCUGAUGAGCUUGAGUUUAGCUCGUCACUGUCCAGGUUCAAUCAGGCGAAACGGUGAAAGCCGUAGGUUGCCC\"\"\" \n",
    "\n",
    "not1 = \\\n",
    "\"\"\">not1\n",
    "GGCAGGUACAUACAGCUGAUGAGUCCCAAAUAGGACGAAACGCGACACACACCACUAAACCGUGCAGUGUUUUGCGUCCUGUAUUCCACUGC\"\"\"\n",
    "\n",
    "and1 = \\\n",
    "\"\"\">and1\n",
    "GGGCGACCCUGAUGAGCUUGGUUUAGUAUUUACAGCUCCAUACAUGAGGUGUUAUCCCUAUGCAAGUUCGAUCAGGCGAAACGGUGAAAGCCGUAGGUUGCCCAGAGACAAU\"\"\"\n",
    "\n",
    "or1 = \\\n",
    "\"\"\">or1\n",
    "GGGCGACCCUGAUGAGCUUGGUUGAGUAUUUACAGCUCCAUACAUGAGGUGUUCUCCCUACGCAAGUUCGAUCAGGCGAAACGGUGAAAGCCGUAGGUUGCCC\"\"\"\n",
    "\n",
    "def rnafold(rnaseq):\n",
    "    p = subprocess.run(['RNAfold'],\n",
    "                        input = bytes(rnaseq,'ascii'),\n",
    "                        stdout=subprocess.PIPE,\n",
    "                        stderr=subprocess.PIPE)\n",
    "    \n",
    "rnafold(yes1)\n",
    "rnafold(not1)\n",
    "rnafold(and1)\n",
    "rnafold(or1)\n",
    "\n",
    "\n"
   ]
  },
  {
   "cell_type": "markdown",
   "metadata": {},
   "source": [
    "# Yes-1 native RNAfold structure\n",
    "\n",
    "<img src=\"yes1.png\" width=\"800\" />\n",
    "\n",
    "\n",
    "**Can see that compared to the paper's native conformer, there is a much larger second loop which prevents a wobble base pair in this structure. The red regions have not bound each other as well.**"
   ]
  },
  {
   "cell_type": "markdown",
   "metadata": {},
   "source": [
    "# Not-1 native RNAfold structure\n",
    "![](not1.png)\n",
    "\n",
    "**RNAfold's native structure is much more similar to the paper's for Not-1. The red regions are bound to each other, although additional loops are present in RNAfold's structure**"
   ]
  },
  {
   "cell_type": "markdown",
   "metadata": {},
   "source": [
    "# And-1 native RNAfold structure\n",
    "![](and1.png)\n",
    "\n",
    "**RNAfold's native structure is the same as the paper's native structure. The red regions are not bound to each other.**"
   ]
  },
  {
   "cell_type": "markdown",
   "metadata": {},
   "source": [
    "# OR-1 native RNAfold structure\n",
    "![](or1.png)\n",
    "\n",
    "**RNAfold's native structure is the same as the paper's native structure. The red regions are not bound to each other.**"
   ]
  },
  {
   "cell_type": "code",
   "execution_count": 1,
   "metadata": {},
   "outputs": [
    {
     "name": "stdout",
     "output_type": "stream",
     "text": [
      "['G', 'G', 'C', 'A', 'G', 'G', 'U', 'A', 'C', 'A', 'U', 'A', 'C', 'A', 'G', 'C', 'U', 'G', 'A', 'U', 'G', 'A', 'G', 'U', 'C', 'C', 'C', 'A', 'A', 'A', 'U', 'A', 'G', 'G', 'A', 'C', 'G', 'A', 'A', 'A', 'C', 'G', 'C', 'G', 'A', 'C', 'A', 'C', 'A', 'C', 'A', 'C', 'C', 'A', 'C', 'U', 'A', 'A', 'A', 'C', 'C', 'G', 'U', 'G', 'C', 'A', 'G', 'U', 'G', 'U', 'U', 'U', 'U', 'G', 'C', 'G', 'U', 'C', 'C', 'U', 'G', 'U', 'A', 'U', 'U', 'C', 'C', 'A', 'C', 'U', 'G', 'C', '.', '.', '.', '.', '.', '.', '.', '.', '.', '.', '.', '.', '.', '.', '.', '.', '.', '.', '.', '.', '.', '.', '.', '.', '.', '.', '.', '.', '.', '.', '.', '.', '.', '.', '.', '.', '.', '.', '.', '.', '.', '.', '.', 'x', 'x', 'x', 'x', 'x', 'x', 'x', 'x', 'x', 'x', 'x', 'x', 'x', 'x', 'x', 'x', 'x', 'x', 'x', 'x', 'x', 'x', 'x', '.', '.', '.', '.', '.', '.', '.', '.', '.', '.', '.', '.', '.', '.', '.', '.', '.', '.', '.', '.', '.', '.', '.', '.', '.', '.']\n",
      "184\n",
      "['G', 'G', 'G', 'C', 'G', 'A', 'C', 'C', 'C', 'U', 'G', 'A', 'U', 'G', 'A', 'G', 'C', 'U', 'U', 'G', 'A', 'G', 'U', 'U', 'U', 'A', 'G', 'C', 'U', 'C', 'G', 'U', 'C', 'A', 'C', 'U', 'G', 'U', 'C', 'C', 'A', 'G', 'G', 'U', 'U', 'C', 'A', 'A', 'U', 'C', 'A', 'G', 'G', 'C', 'G', 'A', 'A', 'A', 'C', 'G', 'G', 'U', 'G', 'A', 'A', 'A', 'G', 'C', 'C', 'G', 'U', 'A', 'G', 'G', 'U', 'U', 'G', 'C', 'C', 'C', '.', '.', '.', '.', '.', '.', '.', '.', '.', '.', '.', '.', '.', '.', '.', '.', '.', '.', '.', '.', '.', '.', '.', '.', '.', 'x', 'x', 'x', 'x', 'x', 'x', 'x', 'x', 'x', 'x', 'x', 'x', 'x', 'x', 'x', 'x', 'x', 'x', 'x', 'x', 'x', 'x', '.', '.', '.', '.', '.', '.', '.', '.', '.', '.', '.', '.', '.', '.', '.', '.', '.', '.', '.', '.', '.', '.', '.', '.', '.', '.', '.', '.', '.', '.', '.', '.', '.'] 160\n"
     ]
    }
   ],
   "source": [
    "from Bio import SeqIO\n",
    "\n",
    "#yes-1\n",
    "yes1final = list(\"GGGCGACCCUGAUGAGCUUGAGUUUAGCUCGUCACUGUCCAGGUUCAAUCAGGCGAAACGGUGAAAGCCGUAGGUUGCCC\")\n",
    "yes1 = list(\"GGGCGACCCUGAUGAGCUUGAGUUUAGCUCGUCACUGUCCAGGUUCAAUCAGGCGAAACGGUGAAAGCCGUAGGUUGCCC\")\n",
    "\n",
    "for i in range(25,47):\n",
    "    yes1[i] = \"x\"\n",
    "for i in range(0,80):\n",
    "    if yes1[i] != \"x\":\n",
    "        yes1[i] = \".\"\n",
    "\n",
    "\n",
    "for i in yes1:\n",
    "    yes1final.append(i)\n",
    "\n",
    "yes1constraints = open(\"yes1constraints.txt\", \"w\")\n",
    "for i in yes1final:\n",
    "    yes1constraints.write(i)\n",
    "yes1constraints.close()\n",
    "\n",
    "\n",
    "\n",
    "#not-1\n",
    "not1 = list(\"GGCAGGUACAUACAGCUGAUGAGUCCCAAAUAGGACGAAACGCGACACACACCACUAAACCGUGCAGUGUUUUGCGUCCUGUAUUCCACUGC\")\n",
    "not1final = list(\"GGCAGGUACAUACAGCUGAUGAGUCCCAAAUAGGACGAAACGCGACACACACCACUAAACCGUGCAGUGUUUUGCGUCCUGUAUUCCACUGC\")\n",
    "\n",
    "for i in range(43,66):\n",
    "    not1[i] = \"x\"\n",
    "for i in range(0,92):\n",
    "    if not1[i] != \"x\":\n",
    "        not1[i] = \".\"\n",
    "        \n",
    "for i in not1:\n",
    "    not1final.append(i)\n",
    "print(not1final)\n",
    "print(len(not1final))\n",
    "print(yes1final, len(yes1final))\n",
    "not1constraints = open(\"not1constraints.txt\", \"w\")\n",
    "for i in not1final:\n",
    "    not1constraints.write(i)\n",
    "not1constraints.close()"
   ]
  },
  {
   "cell_type": "markdown",
   "metadata": {},
   "source": [
    "# YES-1 structure with constraints\n",
    "![](yes1constraints.png)"
   ]
  },
  {
   "cell_type": "markdown",
   "metadata": {},
   "source": [
    "# NOT-1 structure with constraints\n",
    "![](not1constraints.png)"
   ]
  },
  {
   "cell_type": "code",
   "execution_count": 8,
   "metadata": {},
   "outputs": [],
   "source": [
    "#and-1 T/F (OBS1 bound, OBS2 free)\n",
    "\n",
    "and1 = list(\"GGGCGACCCUGAUGAGCUUGGUUUAGUAUUUACAGCUCCAUACAUGAGGUGUUAUCCCUAUGCAAGUUCGAUCAGGCGAAACGGUGAAAGCCGUAGGUUGCCCAGAGACAAU\")\n",
    "and1final = list(\"GGGCGACCCUGAUGAGCUUGGUUUAGUAUUUACAGCUCCAUACAUGAGGUGUUAUCCCUAUGCAAGUUCGAUCAGGCGAAACGGUGAAAGCCGUAGGUUGCCCAGAGACAAU\")\n",
    "\n",
    "\n",
    "\n",
    "for i in range(29,45):\n",
    "    and1[i] = \"x\"\n",
    "for i in range(0,112):\n",
    "    if and1[i] != \"x\":\n",
    "        and1[i] = \".\"\n",
    "\n",
    "for i in and1:\n",
    "    and1final.append(i)\n",
    "\n",
    "\n",
    "and1tf = open(\"and1tf.txt\", \"w\")\n",
    "for i in and1final:\n",
    "    and1tf.write(i)\n",
    "and1tf.close()"
   ]
  },
  {
   "cell_type": "markdown",
   "metadata": {},
   "source": [
    "# AND-1 T/F (OBS1 bound)\n",
    "![](and1tf.png)"
   ]
  },
  {
   "cell_type": "code",
   "execution_count": 11,
   "metadata": {},
   "outputs": [],
   "source": [
    "#and-1 F/T (OBS1 free, OBS2 bound)\n",
    "\n",
    "and1 = list(\"GGGCGACCCUGAUGAGCUUGGUUUAGUAUUUACAGCUCCAUACAUGAGGUGUUAUCCCUAUGCAAGUUCGAUCAGGCGAAACGGUGAAAGCCGUAGGUUGCCCAGAGACAAU\")\n",
    "and1final = list(\"GGGCGACCCUGAUGAGCUUGGUUUAGUAUUUACAGCUCCAUACAUGAGGUGUUAUCCCUAUGCAAGUUCGAUCAGGCGAAACGGUGAAAGCCGUAGGUUGCCCAGAGACAAU\")\n",
    "\n",
    "for i in range(48,64):\n",
    "    and1[i] = \"x\"\n",
    "for i in range(0,112):\n",
    "    if and1[i] != \"x\":\n",
    "        and1[i] = \".\"\n",
    "\n",
    "for i in and1:\n",
    "    and1final.append(i)\n",
    "\n",
    "\n",
    "and1ft = open(\"and1ft.txt\", \"w\")\n",
    "for i in and1final:\n",
    "    and1ft.write(i)\n",
    "and1ft.close()"
   ]
  },
  {
   "cell_type": "markdown",
   "metadata": {},
   "source": [
    "# AND-1 F/T (OBS2 bound)\n",
    "![](and1ft.png)"
   ]
  },
  {
   "cell_type": "code",
   "execution_count": 14,
   "metadata": {},
   "outputs": [],
   "source": [
    "#and-1 T/T (OBS1 and OBS2 bound)\n",
    "\n",
    "and1 = list(\"GGGCGACCCUGAUGAGCUUGGUUUAGUAUUUACAGCUCCAUACAUGAGGUGUUAUCCCUAUGCAAGUUCGAUCAGGCGAAACGGUGAAAGCCGUAGGUUGCCCAGAGACAAU\")\n",
    "and1final = list(\"GGGCGACCCUGAUGAGCUUGGUUUAGUAUUUACAGCUCCAUACAUGAGGUGUUAUCCCUAUGCAAGUUCGAUCAGGCGAAACGGUGAAAGCCGUAGGUUGCCCAGAGACAAU\")\n",
    "\n",
    "\n",
    "\n",
    "for i in range(29,45):\n",
    "    and1[i] = \"x\"\n",
    "for i in range(48,64):\n",
    "    and1[i] = \"x\"\n",
    "for i in range(0,112):\n",
    "    if and1[i] != \"x\":\n",
    "        and1[i] = \".\"\n",
    "for i in and1:\n",
    "    and1final.append(i)\n",
    "    \n",
    "and1tt = open(\"and1tt.txt\", \"w\")\n",
    "for i in and1final:\n",
    "    and1tt.write(i)\n",
    "and1tt.close()"
   ]
  },
  {
   "cell_type": "markdown",
   "metadata": {},
   "source": [
    "# AND-1 T/T (OBS1 and OBS2 bound)\n",
    "![](and1tt.png)"
   ]
  },
  {
   "cell_type": "code",
   "execution_count": 15,
   "metadata": {},
   "outputs": [
    {
     "name": "stdout",
     "output_type": "stream",
     "text": [
      "['G', 'G', 'G', 'C', 'G', 'A', 'C', 'C', 'C', 'U', 'G', 'A', 'U', 'G', 'A', 'G', 'C', 'U', 'U', 'G', 'G', 'U', 'U', 'G', 'A', 'G', 'U', 'A', 'U', 'U', 'U', 'A', 'C', 'A', 'G', 'C', 'U', 'C', 'C', 'A', 'U', 'A', 'C', 'A', 'U', 'G', 'A', 'G', 'G', 'U', 'G', 'U', 'U', 'C', 'U', 'C', 'C', 'C', 'U', 'A', 'C', 'G', 'C', 'A', 'A', 'G', 'U', 'U', 'C', 'G', 'A', 'U', 'C', 'A', 'G', 'G', 'C', 'G', 'A', 'A', 'A', 'C', 'G', 'G', 'U', 'G', 'A', 'A', 'A', 'G', 'C', 'C', 'G', 'U', 'A', 'G', 'G', 'U', 'U', 'G', 'C', 'C', 'C', '.', '.', '.', '.', '.', '.', '.', '.', '.', '.', '.', '.', '.', '.', '.', '.', '.', '.', '.', '.', '.', '.', '.', '.', '.', '.', 'x', 'x', 'x', 'x', 'x', 'x', 'x', 'x', 'x', 'x', 'x', 'x', 'x', 'x', 'x', 'x', 'x', 'x', 'x', 'x', '.', '.', '.', '.', '.', '.', '.', '.', '.', '.', '.', '.', '.', '.', '.', '.', '.', '.', '.', '.', '.', '.', '.', '.', '.', '.', '.', '.', '.', '.', '.', '.', '.', '.', '.', '.', '.', '.', '.', '.', '.', '.', '.', '.', '.', '.', '.', '.', '.', '.', '.', '.', '.', '.', '.', '.', '.'] 206\n"
     ]
    }
   ],
   "source": [
    "#or-1 T/F (OBS1 bound, OBS2 free)\n",
    "\n",
    "or1 = list('GGGCGACCCUGAUGAGCUUGGUUGAGUAUUUACAGCUCCAUACAUGAGGUGUUCUCCCUACGCAAGUUCGAUCAGGCGAAACGGUGAAAGCCGUAGGUUGCCC')\n",
    "or1final = list('GGGCGACCCUGAUGAGCUUGGUUGAGUAUUUACAGCUCCAUACAUGAGGUGUUCUCCCUACGCAAGUUCGAUCAGGCGAAACGGUGAAAGCCGUAGGUUGCCC')\n",
    "\n",
    "\n",
    "for i in range(26,46):\n",
    "    or1[i] = \"x\"\n",
    "for i in range(0,103):\n",
    "    if or1[i] != \"x\":\n",
    "        or1[i] = \".\"\n",
    "\n",
    "for i in or1:\n",
    "    or1final.append(i)\n",
    "\n",
    "print(or1final, len(or1final))\n",
    "or1tf = open(\"or1tf.txt\", \"w\")\n",
    "for i in or1final:\n",
    "    or1tf.write(i)\n",
    "or1tf.close()"
   ]
  },
  {
   "cell_type": "markdown",
   "metadata": {},
   "source": [
    "# OR-1 T/F (OBS1 bound)\n",
    "![](or1tf.png)"
   ]
  },
  {
   "cell_type": "code",
   "execution_count": 16,
   "metadata": {},
   "outputs": [
    {
     "name": "stdout",
     "output_type": "stream",
     "text": [
      "['G', 'G', 'G', 'C', 'G', 'A', 'C', 'C', 'C', 'U', 'G', 'A', 'U', 'G', 'A', 'G', 'C', 'U', 'U', 'G', 'G', 'U', 'U', 'G', 'A', 'G', 'U', 'A', 'U', 'U', 'U', 'A', 'C', 'A', 'G', 'C', 'U', 'C', 'C', 'A', 'U', 'A', 'C', 'A', 'U', 'G', 'A', 'G', 'G', 'U', 'G', 'U', 'U', 'C', 'U', 'C', 'C', 'C', 'U', 'A', 'C', 'G', 'C', 'A', 'A', 'G', 'U', 'U', 'C', 'G', 'A', 'U', 'C', 'A', 'G', 'G', 'C', 'G', 'A', 'A', 'A', 'C', 'G', 'G', 'U', 'G', 'A', 'A', 'A', 'G', 'C', 'C', 'G', 'U', 'A', 'G', 'G', 'U', 'U', 'G', 'C', 'C', 'C', '.', '.', '.', '.', '.', '.', '.', '.', '.', '.', '.', '.', '.', '.', '.', '.', '.', '.', '.', '.', '.', '.', '.', '.', '.', '.', '.', '.', '.', '.', '.', '.', '.', '.', '.', '.', '.', '.', '.', '.', '.', '.', '.', '.', '.', '.', 'x', 'x', 'x', 'x', 'x', 'x', 'x', 'x', 'x', 'x', 'x', 'x', 'x', 'x', 'x', 'x', 'x', 'x', 'x', 'x', '.', '.', '.', '.', '.', '.', '.', '.', '.', '.', '.', '.', '.', '.', '.', '.', '.', '.', '.', '.', '.', '.', '.', '.', '.', '.', '.', '.', '.', '.', '.', '.', '.', '.', '.', '.', '.'] 206\n"
     ]
    }
   ],
   "source": [
    "#or-1 F/T (OBS1 free, OBS2 bound)\n",
    "\n",
    "or1 = list('GGGCGACCCUGAUGAGCUUGGUUGAGUAUUUACAGCUCCAUACAUGAGGUGUUCUCCCUACGCAAGUUCGAUCAGGCGAAACGGUGAAAGCCGUAGGUUGCCC')\n",
    "or1final = list('GGGCGACCCUGAUGAGCUUGGUUGAGUAUUUACAGCUCCAUACAUGAGGUGUUCUCCCUACGCAAGUUCGAUCAGGCGAAACGGUGAAAGCCGUAGGUUGCCC')\n",
    "\n",
    "\n",
    "for i in range(46,66):\n",
    "    or1[i] = \"x\"\n",
    "for i in range(0,103):\n",
    "    if or1[i] != \"x\":\n",
    "        or1[i] = \".\"\n",
    "\n",
    "for i in or1:\n",
    "    or1final.append(i)\n",
    "\n",
    "print(or1final, len(or1final))\n",
    "or1ft = open(\"or1ft.txt\", \"w\")\n",
    "for i in or1final:\n",
    "    or1ft.write(i)\n",
    "or1ft.close()"
   ]
  },
  {
   "cell_type": "markdown",
   "metadata": {},
   "source": [
    "# OR-1 F/T (OBS2 bound)\n",
    "![](or1ft.png)"
   ]
  },
  {
   "cell_type": "code",
   "execution_count": 17,
   "metadata": {},
   "outputs": [
    {
     "name": "stdout",
     "output_type": "stream",
     "text": [
      "['G', 'G', 'G', 'C', 'G', 'A', 'C', 'C', 'C', 'U', 'G', 'A', 'U', 'G', 'A', 'G', 'C', 'U', 'U', 'G', 'G', 'U', 'U', 'G', 'A', 'G', 'U', 'A', 'U', 'U', 'U', 'A', 'C', 'A', 'G', 'C', 'U', 'C', 'C', 'A', 'U', 'A', 'C', 'A', 'U', 'G', 'A', 'G', 'G', 'U', 'G', 'U', 'U', 'C', 'U', 'C', 'C', 'C', 'U', 'A', 'C', 'G', 'C', 'A', 'A', 'G', 'U', 'U', 'C', 'G', 'A', 'U', 'C', 'A', 'G', 'G', 'C', 'G', 'A', 'A', 'A', 'C', 'G', 'G', 'U', 'G', 'A', 'A', 'A', 'G', 'C', 'C', 'G', 'U', 'A', 'G', 'G', 'U', 'U', 'G', 'C', 'C', 'C', '.', '.', '.', '.', '.', '.', '.', '.', '.', '.', '.', '.', '.', '.', '.', '.', '.', '.', '.', '.', '.', '.', '.', '.', '.', '.', 'x', 'x', 'x', 'x', 'x', 'x', 'x', 'x', 'x', 'x', 'x', 'x', 'x', 'x', 'x', 'x', 'x', 'x', 'x', 'x', 'x', 'x', 'x', 'x', 'x', 'x', 'x', 'x', 'x', 'x', 'x', 'x', 'x', 'x', 'x', 'x', 'x', 'x', 'x', 'x', '.', '.', '.', '.', '.', '.', '.', '.', '.', '.', '.', '.', '.', '.', '.', '.', '.', '.', '.', '.', '.', '.', '.', '.', '.', '.', '.', '.', '.', '.', '.', '.', '.', '.', '.', '.', '.'] 206\n"
     ]
    }
   ],
   "source": [
    "#or-1 T/T (OBS1 and OBS2 bound)\n",
    "\n",
    "or1 = list('GGGCGACCCUGAUGAGCUUGGUUGAGUAUUUACAGCUCCAUACAUGAGGUGUUCUCCCUACGCAAGUUCGAUCAGGCGAAACGGUGAAAGCCGUAGGUUGCCC')\n",
    "or1final = list('GGGCGACCCUGAUGAGCUUGGUUGAGUAUUUACAGCUCCAUACAUGAGGUGUUCUCCCUACGCAAGUUCGAUCAGGCGAAACGGUGAAAGCCGUAGGUUGCCC')\n",
    "\n",
    "\n",
    "for i in range(26,46):\n",
    "    or1[i] = \"x\"\n",
    "for i in range(46,66):\n",
    "    or1[i] = \"x\"\n",
    "for i in range(0,103):\n",
    "    if or1[i] != \"x\":\n",
    "        or1[i] = \".\"\n",
    "\n",
    "for i in or1:\n",
    "    or1final.append(i)\n",
    "\n",
    "print(or1final, len(or1final))\n",
    "or1tt = open(\"or1tt.txt\", \"w\")\n",
    "for i in or1final:\n",
    "    or1tt.write(i)\n",
    "or1tt.close()"
   ]
  },
  {
   "cell_type": "markdown",
   "metadata": {},
   "source": [
    "# OR-1 T/T (OBS1 and OBS2 bound)\n",
    "![](or1tt.png)"
   ]
  }
 ],
 "metadata": {
  "kernelspec": {
   "display_name": "Python 3",
   "language": "python",
   "name": "python3"
  },
  "language_info": {
   "codemirror_mode": {
    "name": "ipython",
    "version": 3
   },
   "file_extension": ".py",
   "mimetype": "text/x-python",
   "name": "python",
   "nbconvert_exporter": "python",
   "pygments_lexer": "ipython3",
   "version": "3.7.0"
  }
 },
 "nbformat": 4,
 "nbformat_minor": 2
}
