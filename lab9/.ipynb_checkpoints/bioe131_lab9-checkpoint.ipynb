{
 "cells": [
  {
   "cell_type": "markdown",
   "metadata": {},
   "source": [
    "# Assembly Statistics\n",
    "![](assembly-stats.jpg)"
   ]
  },
  {
   "cell_type": "markdown",
   "metadata": {},
   "source": [
    "## contigs.fasta\n",
    "Total length = 6678635\n",
    "\n",
    "Number of contigs = 176\n",
    "\n",
    "N50 = 234690, n = 11\n",
    "\n",
    "## scaffolds.fasta\n",
    "Total length = 6678655\n",
    "\n",
    "Number of contigs = 174\n",
    "\n",
    "N50 = 234690, n = 11"
   ]
  },
  {
   "cell_type": "markdown",
   "metadata": {},
   "source": [
    "# 16S Genus IDs\n",
    "**>NODE_23_length_103367_cov_10.081286:35530-37075**\n",
    "\n",
    "--> Genus = Pseudomonas\n",
    "\n",
    "--> Came to conclusion based on definitive genus ID (no species ID available)\n",
    " \n",
    " --> Querying the genus similarity, we found about 10 Pseudomonas species with an average of .98 ID with the matched portions\n",
    "  \n",
    "**>NODE_18_length_154232_cov_9.584186:124541-126086**\n",
    "\n",
    "--> Genus = Pseudomonas\n",
    "\n",
    "--> Near identical results to \"NODE_23\"\n",
    "\n",
    "**>NODE_5_length_327223_cov_9.241629:46285-47830**\n",
    "\n",
    "--> Genus = Pseudomonas\n",
    "\n",
    "--> Near identical results to \"NODE_18\"\n",
    "\n",
    "**>NODE_6_length_298784_cov_8.918606:13925-15470**\n",
    "\n",
    "--> Genus = Pseudomonas\n",
    "\n",
    "--> Near identical results to \"NODE_5\"\n",
    "\n",
    "**>NODE_4_length_332509_cov_9.114046:137011-138556**\n",
    "\n",
    "--> Genus = Pseudomonas\n",
    "\n",
    "--> Near identical results to \"NODE_6\"\n",
    "\n",
    "**>NODE_2_length_378948_cov_10.006665:348499-350044**\n",
    "\n",
    "--> Genus = Pseudomonas\n",
    "\n",
    "--> Near identical results to \"NODE_4\"\n",
    "\n",
    "## FINAL GENUS-LEVEL IDENTIFICATION\n",
    "**Pseudomonas**\n",
    "\n",
    "Every 16S sequence matched with Pseudomonas sp"
   ]
  },
  {
   "cell_type": "markdown",
   "metadata": {},
   "source": [
    "# Why is N50 is useful statistic to calculate? Why not just list the mean or median contig length? In your assembly, are scaffolds longer than contigs, or are scaffolds approximately equal to contigs?\n",
    "\n",
    "**A way to think about N50 is that >= half of the nucleotides in the assembly belong to contigs with length >= N50**\n",
    "\n",
    "**This is much better than the mean or median contig length because it excludes very short contig lengths which are equally important in the assembly.**\n",
    "\n",
    "**Scaffold length is longer in our contigs very marginally.**"
   ]
  }
 ],
 "metadata": {
  "kernelspec": {
   "display_name": "Python 3",
   "language": "python",
   "name": "python3"
  },
  "language_info": {
   "codemirror_mode": {
    "name": "ipython",
    "version": 3
   },
   "file_extension": ".py",
   "mimetype": "text/x-python",
   "name": "python",
   "nbconvert_exporter": "python",
   "pygments_lexer": "ipython3",
   "version": "3.7.0"
  }
 },
 "nbformat": 4,
 "nbformat_minor": 2
}
