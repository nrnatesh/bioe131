{
 "cells": [
  {
   "cell_type": "code",
   "execution_count": 14,
   "metadata": {
    "scrolled": false
   },
   "outputs": [
    {
     "name": "stdout",
     "output_type": "stream",
     "text": [
      "Top 10 most frequent:\n",
      "1 = and 713\n",
      "2 = the 680\n",
      "3 = i 585\n",
      "4 = to 541\n",
      "5 = a 468\n",
      "6 = of 401\n",
      "7 = my 360\n",
      "8 = that 347\n",
      "9 = is 344\n",
      "10 = in 319\n",
      "\n",
      "Top 10 least frequent:\n",
      "10 = punish'd 1\n",
      "9 = jointure 1\n",
      "8 = demand 1\n",
      "7 = statue 1\n",
      "6 = whiles 1\n",
      "5 = figure 1\n",
      "4 = sacrifices 1\n",
      "3 = glooming 1\n",
      "2 = pardon'd 1\n",
      "1 = punished 1\n"
     ]
    },
    {
     "data": {
      "image/png": "[encoded data removed]",
      "text/plain": [
       "<Figure size 1440x720 with 1 Axes>"
      ]
     },
     "metadata": {
      "needs_background": "light"
     },
     "output_type": "display_data"
    },
    {
     "data": {
      "image/png": "[encoded data removed]",
      "text/plain": [
       "<Figure size 432x288 with 1 Axes>"
      ]
     },
     "metadata": {
      "needs_background": "light"
     },
     "output_type": "display_data"
    }
   ],
   "source": [
    "import matplotlib.pyplot as plt\n",
    "import numpy as np\n",
    "%matplotlib inline\n",
    "import string\n",
    "import sys\n",
    "import math\n",
    "\n",
    "rj = open('romeoandjuliet.txt','r')\n",
    "\n",
    "uniquewords = []\n",
    "uniquewordcount = []\n",
    "wordcount={}\n",
    "count=[]\n",
    "\n",
    "# Read rj into a list defined by every word and convert to all lowercase \n",
    "rjwords = rj.read().split()\n",
    "rjwords = [word.lower() for word in rjwords]\n",
    "# Take out all punctuation (i.e. ',' '.' etc.)\n",
    "rjwords = [word.strip(string.punctuation) for word in rjwords]\n",
    "\n",
    "# Dictionary of every word and its frequency\n",
    "for word in rjwords:\n",
    "    if word in wordcount:\n",
    "        wordcount[word] += 1\n",
    "    else:\n",
    "        wordcount[word] = 1     \n",
    "\n",
    "# List of words in descending order of frequency\n",
    "wordcountsorted = sorted(wordcount, key = wordcount.get, reverse=True)\n",
    "\n",
    "# Top 10 most frequent words and their respective wordcount\n",
    "print('Top 10 most frequent:')\n",
    "t = 1\n",
    "for word in wordcountsorted[0:10]:\n",
    "    print(t, '=', word, wordcount[word])\n",
    "    t+=1\n",
    "\n",
    "print('')\n",
    "\n",
    "# Top 10 least frequent words and their respective wordcount\n",
    "print('Top 10 least frequent:')\n",
    "b = 10\n",
    "for word in wordcountsorted[3785:3795]:\n",
    "    print(b, '=', word, wordcount[word])\n",
    "    b-=1\n",
    "    \n",
    "### Top 10 most frequent words are mainly conjunctions and pronouns and non-proper nouns. This is because those are\n",
    "### naturally the words that will be used the most in any piece of writing.\n",
    "\n",
    "### Top 10 least frequent words are adjectives and verbs, commonly dark in tone, which may indicate that Romeo\n",
    "### and Juliet is actually quite a happy play!!!!! (not really...) \n",
    "\n",
    "### I attempted to make a bar graph with every unique word (3796 words) and their frequency, but it was too large\n",
    "### for human readability, so I will instead rank the top 25 words, present that bar graph, and then try the bonus\n",
    "### question which asks for the log graph. In addition, the repetition of words unnoticed as non-unique due to apostrophes\n",
    "### instead of \"ed\" such as \"punished\" and \"punish'd\" only accounted for <5% of the total amount of words, so I let them\n",
    "### remain in the list instead of worrying about optimizing the list for something insignificant.\n",
    "\n",
    "# List of top 25 words\n",
    "topwords = []\n",
    "i = 0\n",
    "while i <= 24:\n",
    "    topwords.append(wordcountsorted[i])\n",
    "    i+=1\n",
    "    \n",
    "# List of frequency of top 25 words\n",
    "topwordscount = []\n",
    "for word in topwords:\n",
    "    topwordscount.append(wordcount[word])\n",
    "\n",
    "# Bar graph for occurence of top 25 words in Romeo and Juliet\n",
    "width = .35\n",
    "N1 = len(topwords)\n",
    "ind1 = np.arange(N1)\n",
    "x1data = topwords\n",
    "y1data = topwordscount\n",
    "\n",
    "plt.figure(figsize=(20, 10))  \n",
    "plt.bar(x1data, y1data, width)\n",
    "plt.xlabel('Word')\n",
    "plt.ylabel('Frequency')\n",
    "plt.title('Occurence of top 25 words in Romeo and Juliet')\n",
    "\n",
    "plt.show()\n",
    "\n",
    "\n",
    "### For log(word count) vs. log(word rank) bar graph ###\n",
    "\n",
    "# List of base 10 log of word counts for five log positions starting at 1 with interval of .5 in wordcountsorted\n",
    "# wordcountsorted only has order of magnitude 3 total words\n",
    "logallwordscount = []\n",
    "k = 0\n",
    "for word in wordcountsorted:\n",
    "    if k == 9: #log(10) = 1\n",
    "        logallwordscount.append(math.log10(wordcount[word]))\n",
    "    elif k == 31: #log(32) = ~1.5\n",
    "        logallwordscount.append(math.log10(wordcount[word]))\n",
    "    elif k == 99: #log(100) = 2\n",
    "        logallwordscount.append(math.log10(wordcount[word]))\n",
    "    elif k == 316: #log(317) = ~2.5\n",
    "        logallwordscount.append(math.log10(wordcount[word]))\n",
    "    elif k == 999: #log(1000) = 3\n",
    "        logallwordscount.append(math.log10(wordcount[word]))\n",
    "    k+=1\n",
    "\n",
    "# Bar graph for log(word count) vs. log(word rank)\n",
    "N2 = len(logallwordscount)\n",
    "ind2 = np.arange(N2)\n",
    "x2data = [1,1.5,2,2.5,3]\n",
    "y2data=logallwordscount\n",
    "\n",
    "\n",
    "plt.bar(x2data, y2data, width)\n",
    "plt.xlabel('Log(word rank)')\n",
    "plt.ylabel('Log(word count)')\n",
    "plt.title('Log(word count) vs. Log(word rank)')\n",
    "\n",
    "plt.show()\n",
    "\n",
    "### I'm having trouble interpreting the log graph, but my best guess is essentially that for each log position change for \n",
    "### word rank, there is actually an almost equivalent step change in the log of the word count, which is an\n",
    "### interesting quantitative trend for the words in Romeo and Juliet, but I'm not sure what else it could mean."
   ]
  },
  {
   "cell_type": "code",
   "execution_count": null,
   "metadata": {},
   "outputs": [],
   "source": [
    "\n",
    "\n"
   ]
  },
  {
   "cell_type": "code",
   "execution_count": null,
   "metadata": {},
   "outputs": [],
   "source": []
  }
 ],
 "metadata": {
  "kernelspec": {
   "display_name": "Python 3",
   "language": "python",
   "name": "python3"
  },
  "language_info": {
   "codemirror_mode": {
    "name": "ipython",
    "version": 3
   },
   "file_extension": ".py",
   "mimetype": "text/x-python",
   "name": "python",
   "nbconvert_exporter": "python",
   "pygments_lexer": "ipython3",
   "version": "3.7.0"
  }
 },
 "nbformat": 4,
 "nbformat_minor": 2
}
